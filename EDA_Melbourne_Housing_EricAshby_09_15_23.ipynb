{
  "nbformat": 4,
  "nbformat_minor": 0,
  "metadata": {
    "colab": {
      "provenance": [],
      "authorship_tag": "ABX9TyOMFlrIf0TmTuCJUrtxP1go",
      "include_colab_link": true
    },
    "kernelspec": {
      "name": "python3",
      "display_name": "Python 3"
    },
    "language_info": {
      "name": "python"
    }
  },
  "cells": [
    {
      "cell_type": "markdown",
      "metadata": {
        "id": "view-in-github",
        "colab_type": "text"
      },
      "source": [
        "<a href=\"https://colab.research.google.com/github/EricAshby/EDA-Melbourne-Housing/blob/main/TEDA1040_Mod1_project_EricAshby_09_15_23.ipynb\" target=\"_parent\"><img src=\"https://colab.research.google.com/assets/colab-badge.svg\" alt=\"Open In Colab\"/></a>"
      ]
    },
    {
      "cell_type": "markdown",
      "source": [
        "#Exploratory Data Analysis on Melbourne Housing\n",
        "Eric D. Ashby\n",
        "\n"
      ],
      "metadata": {
        "id": "FJp85P9jJ8HR"
      }
    },
    {
      "cell_type": "markdown",
      "source": [
        "##Introduction\n",
        "\n",
        "\n",
        "\n"
      ],
      "metadata": {
        "id": "2yLzdabBVvmh"
      }
    },
    {
      "cell_type": "markdown",
      "source": [
        "The city of Melbourne, Australia has been experiencing a housing boom. The data set explored in this analysis consists of housing data in the city.\n",
        "\n",
        "This analysis will explore the data through visualizations and other data analysis techniques in order to fulfil a number of visualization requests and to answer the associated questions outlined below."
      ],
      "metadata": {
        "id": "qNFVIP3zWD0t"
      }
    },
    {
      "cell_type": "markdown",
      "source": [
        "##Purpose of Analysis\n"
      ],
      "metadata": {
        "id": "2kKOCzgJVz2v"
      }
    },
    {
      "cell_type": "markdown",
      "source": [
        "This analysis aims to create the following visualizations and answer the associated questions:\n",
        "1.  Create a scatter plot that shows land size on the x-axis and price on the y-axis. Change the color of the points to reflect the type of the property.\n",
        "  *  Which type of property experiences a steep price increase as the land size goes up?\n",
        "2.  Create a line chart that shows the year built along the x-axis and the average price per year on the y-axis.\n",
        "  *  According to the line chart produced above, does the average price of properties seem to increase or decrease as the property becomes newer?\n",
        "3.  Create a bar chart that shows the region on the x-axis and the average price of the property on the y-axis.\n",
        "  *  According to the bar chart above, properties appear to have the highest average price in which region?\n",
        "4.  Create a histogram of property prices.\n",
        "  *  According to the histogram above, are the prices for properties right skewed, left skewed, or not skewed at all?\n",
        "5.  Create a box plot that shows the years that each property was built on the x-axis and the region on the y-axis. These box plots should be oriented horizontally.\n",
        "  *  According to the box plot above, which region has properties built in the widest range of time?\n",
        "  *  According to the box plot above, which region is the only region that has very few properties listed that were built after the year 2000?"
      ],
      "metadata": {
        "id": "6pUD9-kAWGUR"
      }
    },
    {
      "cell_type": "markdown",
      "source": [
        "##Overview"
      ],
      "metadata": {
        "id": "JUpPMlG1KTxh"
      }
    },
    {
      "cell_type": "code",
      "execution_count": null,
      "metadata": {
        "id": "8rxgboO3JjZP"
      },
      "outputs": [],
      "source": [
        "import pandas as pd\n",
        "import matplotlib.pyplot as plt\n",
        "import seaborn as sns\n",
        "df = pd.read_csv('melbourne_housing.csv')"
      ]
    },
    {
      "cell_type": "markdown",
      "source": [
        "###About the Data"
      ],
      "metadata": {
        "id": "U9O8QPy51KhY"
      }
    },
    {
      "cell_type": "markdown",
      "source": [
        "Shown by the code below are the first 5 rows in the `melbourne_housing.csv` data set.  We see that the data is primarily comprised of information on housing location (address, suburb, region, etc.) and property amenities/features (bedrooms, bathrooms, land size, etc.). Also contained in the data set is selling information, such as seller and price.\n",
        "\n",
        "There are a total of 19 columns of data for each entry. Only some of this data will be relevant to this analysis.\n",
        "\n",
        "One pattern that we can note by investigating these five rows, the Rooms column does not seem to be the total number of rooms as it does not agree with the number of bedrooms and bathrooms in the same record. It seems, then, that these rooms are rooms other than those that are also listed in the data set, such as kitchens and living rooms."
      ],
      "metadata": {
        "id": "PfzwL0fZK0T6"
      }
    },
    {
      "cell_type": "code",
      "source": [
        "df.head()"
      ],
      "metadata": {
        "id": "VwN6msNFKSL-",
        "colab": {
          "base_uri": "https://localhost:8080/",
          "height": 348
        },
        "outputId": "00bdd3f4-acfc-44e1-8d30-edeb51d7bf7f"
      },
      "execution_count": null,
      "outputs": [
        {
          "output_type": "execute_result",
          "data": {
            "text/plain": [
              "       Suburb           Address  Rooms Type    Price Method SellerG  \\\n",
              "0  Abbotsford      85 Turner St      2    h  1480000      S  Biggin   \n",
              "1  Abbotsford   25 Bloomburg St      2    h  1035000      S  Biggin   \n",
              "2  Abbotsford      5 Charles St      3    h  1465000     SP  Biggin   \n",
              "3  Abbotsford  40 Federation La      3    h   850000     PI  Biggin   \n",
              "4  Abbotsford       55a Park St      4    h  1600000     VB  Nelson   \n",
              "\n",
              "        Date  Distance  Postcode  Bedroom2  Bathroom  Car  Landsize  \\\n",
              "0  3/12/2016       2.5      3067         2         1  1.0       202   \n",
              "1   4/2/2016       2.5      3067         2         1  0.0       156   \n",
              "2   4/3/2017       2.5      3067         3         2  0.0       134   \n",
              "3   4/3/2017       2.5      3067         3         2  1.0        94   \n",
              "4   4/6/2016       2.5      3067         3         1  2.0       120   \n",
              "\n",
              "   BuildingArea  YearBuilt CouncilArea             Regionname  Propertycount  \n",
              "0           NaN        NaN       Yarra  Northern Metropolitan           4019  \n",
              "1          79.0     1900.0       Yarra  Northern Metropolitan           4019  \n",
              "2         150.0     1900.0       Yarra  Northern Metropolitan           4019  \n",
              "3           NaN        NaN       Yarra  Northern Metropolitan           4019  \n",
              "4         142.0     2014.0       Yarra  Northern Metropolitan           4019  "
            ],
            "text/html": [
              "\n",
              "  <div id=\"df-26c9ea0d-4716-4872-9a0f-29dca6ec4f8f\" class=\"colab-df-container\">\n",
              "    <div>\n",
              "<style scoped>\n",
              "    .dataframe tbody tr th:only-of-type {\n",
              "        vertical-align: middle;\n",
              "    }\n",
              "\n",
              "    .dataframe tbody tr th {\n",
              "        vertical-align: top;\n",
              "    }\n",
              "\n",
              "    .dataframe thead th {\n",
              "        text-align: right;\n",
              "    }\n",
              "</style>\n",
              "<table border=\"1\" class=\"dataframe\">\n",
              "  <thead>\n",
              "    <tr style=\"text-align: right;\">\n",
              "      <th></th>\n",
              "      <th>Suburb</th>\n",
              "      <th>Address</th>\n",
              "      <th>Rooms</th>\n",
              "      <th>Type</th>\n",
              "      <th>Price</th>\n",
              "      <th>Method</th>\n",
              "      <th>SellerG</th>\n",
              "      <th>Date</th>\n",
              "      <th>Distance</th>\n",
              "      <th>Postcode</th>\n",
              "      <th>Bedroom2</th>\n",
              "      <th>Bathroom</th>\n",
              "      <th>Car</th>\n",
              "      <th>Landsize</th>\n",
              "      <th>BuildingArea</th>\n",
              "      <th>YearBuilt</th>\n",
              "      <th>CouncilArea</th>\n",
              "      <th>Regionname</th>\n",
              "      <th>Propertycount</th>\n",
              "    </tr>\n",
              "  </thead>\n",
              "  <tbody>\n",
              "    <tr>\n",
              "      <th>0</th>\n",
              "      <td>Abbotsford</td>\n",
              "      <td>85 Turner St</td>\n",
              "      <td>2</td>\n",
              "      <td>h</td>\n",
              "      <td>1480000</td>\n",
              "      <td>S</td>\n",
              "      <td>Biggin</td>\n",
              "      <td>3/12/2016</td>\n",
              "      <td>2.5</td>\n",
              "      <td>3067</td>\n",
              "      <td>2</td>\n",
              "      <td>1</td>\n",
              "      <td>1.0</td>\n",
              "      <td>202</td>\n",
              "      <td>NaN</td>\n",
              "      <td>NaN</td>\n",
              "      <td>Yarra</td>\n",
              "      <td>Northern Metropolitan</td>\n",
              "      <td>4019</td>\n",
              "    </tr>\n",
              "    <tr>\n",
              "      <th>1</th>\n",
              "      <td>Abbotsford</td>\n",
              "      <td>25 Bloomburg St</td>\n",
              "      <td>2</td>\n",
              "      <td>h</td>\n",
              "      <td>1035000</td>\n",
              "      <td>S</td>\n",
              "      <td>Biggin</td>\n",
              "      <td>4/2/2016</td>\n",
              "      <td>2.5</td>\n",
              "      <td>3067</td>\n",
              "      <td>2</td>\n",
              "      <td>1</td>\n",
              "      <td>0.0</td>\n",
              "      <td>156</td>\n",
              "      <td>79.0</td>\n",
              "      <td>1900.0</td>\n",
              "      <td>Yarra</td>\n",
              "      <td>Northern Metropolitan</td>\n",
              "      <td>4019</td>\n",
              "    </tr>\n",
              "    <tr>\n",
              "      <th>2</th>\n",
              "      <td>Abbotsford</td>\n",
              "      <td>5 Charles St</td>\n",
              "      <td>3</td>\n",
              "      <td>h</td>\n",
              "      <td>1465000</td>\n",
              "      <td>SP</td>\n",
              "      <td>Biggin</td>\n",
              "      <td>4/3/2017</td>\n",
              "      <td>2.5</td>\n",
              "      <td>3067</td>\n",
              "      <td>3</td>\n",
              "      <td>2</td>\n",
              "      <td>0.0</td>\n",
              "      <td>134</td>\n",
              "      <td>150.0</td>\n",
              "      <td>1900.0</td>\n",
              "      <td>Yarra</td>\n",
              "      <td>Northern Metropolitan</td>\n",
              "      <td>4019</td>\n",
              "    </tr>\n",
              "    <tr>\n",
              "      <th>3</th>\n",
              "      <td>Abbotsford</td>\n",
              "      <td>40 Federation La</td>\n",
              "      <td>3</td>\n",
              "      <td>h</td>\n",
              "      <td>850000</td>\n",
              "      <td>PI</td>\n",
              "      <td>Biggin</td>\n",
              "      <td>4/3/2017</td>\n",
              "      <td>2.5</td>\n",
              "      <td>3067</td>\n",
              "      <td>3</td>\n",
              "      <td>2</td>\n",
              "      <td>1.0</td>\n",
              "      <td>94</td>\n",
              "      <td>NaN</td>\n",
              "      <td>NaN</td>\n",
              "      <td>Yarra</td>\n",
              "      <td>Northern Metropolitan</td>\n",
              "      <td>4019</td>\n",
              "    </tr>\n",
              "    <tr>\n",
              "      <th>4</th>\n",
              "      <td>Abbotsford</td>\n",
              "      <td>55a Park St</td>\n",
              "      <td>4</td>\n",
              "      <td>h</td>\n",
              "      <td>1600000</td>\n",
              "      <td>VB</td>\n",
              "      <td>Nelson</td>\n",
              "      <td>4/6/2016</td>\n",
              "      <td>2.5</td>\n",
              "      <td>3067</td>\n",
              "      <td>3</td>\n",
              "      <td>1</td>\n",
              "      <td>2.0</td>\n",
              "      <td>120</td>\n",
              "      <td>142.0</td>\n",
              "      <td>2014.0</td>\n",
              "      <td>Yarra</td>\n",
              "      <td>Northern Metropolitan</td>\n",
              "      <td>4019</td>\n",
              "    </tr>\n",
              "  </tbody>\n",
              "</table>\n",
              "</div>\n",
              "    <div class=\"colab-df-buttons\">\n",
              "\n",
              "  <div class=\"colab-df-container\">\n",
              "    <button class=\"colab-df-convert\" onclick=\"convertToInteractive('df-26c9ea0d-4716-4872-9a0f-29dca6ec4f8f')\"\n",
              "            title=\"Convert this dataframe to an interactive table.\"\n",
              "            style=\"display:none;\">\n",
              "\n",
              "  <svg xmlns=\"http://www.w3.org/2000/svg\" height=\"24px\" viewBox=\"0 -960 960 960\">\n",
              "    <path d=\"M120-120v-720h720v720H120Zm60-500h600v-160H180v160Zm220 220h160v-160H400v160Zm0 220h160v-160H400v160ZM180-400h160v-160H180v160Zm440 0h160v-160H620v160ZM180-180h160v-160H180v160Zm440 0h160v-160H620v160Z\"/>\n",
              "  </svg>\n",
              "    </button>\n",
              "\n",
              "  <style>\n",
              "    .colab-df-container {\n",
              "      display:flex;\n",
              "      gap: 12px;\n",
              "    }\n",
              "\n",
              "    .colab-df-convert {\n",
              "      background-color: #E8F0FE;\n",
              "      border: none;\n",
              "      border-radius: 50%;\n",
              "      cursor: pointer;\n",
              "      display: none;\n",
              "      fill: #1967D2;\n",
              "      height: 32px;\n",
              "      padding: 0 0 0 0;\n",
              "      width: 32px;\n",
              "    }\n",
              "\n",
              "    .colab-df-convert:hover {\n",
              "      background-color: #E2EBFA;\n",
              "      box-shadow: 0px 1px 2px rgba(60, 64, 67, 0.3), 0px 1px 3px 1px rgba(60, 64, 67, 0.15);\n",
              "      fill: #174EA6;\n",
              "    }\n",
              "\n",
              "    .colab-df-buttons div {\n",
              "      margin-bottom: 4px;\n",
              "    }\n",
              "\n",
              "    [theme=dark] .colab-df-convert {\n",
              "      background-color: #3B4455;\n",
              "      fill: #D2E3FC;\n",
              "    }\n",
              "\n",
              "    [theme=dark] .colab-df-convert:hover {\n",
              "      background-color: #434B5C;\n",
              "      box-shadow: 0px 1px 3px 1px rgba(0, 0, 0, 0.15);\n",
              "      filter: drop-shadow(0px 1px 2px rgba(0, 0, 0, 0.3));\n",
              "      fill: #FFFFFF;\n",
              "    }\n",
              "  </style>\n",
              "\n",
              "    <script>\n",
              "      const buttonEl =\n",
              "        document.querySelector('#df-26c9ea0d-4716-4872-9a0f-29dca6ec4f8f button.colab-df-convert');\n",
              "      buttonEl.style.display =\n",
              "        google.colab.kernel.accessAllowed ? 'block' : 'none';\n",
              "\n",
              "      async function convertToInteractive(key) {\n",
              "        const element = document.querySelector('#df-26c9ea0d-4716-4872-9a0f-29dca6ec4f8f');\n",
              "        const dataTable =\n",
              "          await google.colab.kernel.invokeFunction('convertToInteractive',\n",
              "                                                    [key], {});\n",
              "        if (!dataTable) return;\n",
              "\n",
              "        const docLinkHtml = 'Like what you see? Visit the ' +\n",
              "          '<a target=\"_blank\" href=https://colab.research.google.com/notebooks/data_table.ipynb>data table notebook</a>'\n",
              "          + ' to learn more about interactive tables.';\n",
              "        element.innerHTML = '';\n",
              "        dataTable['output_type'] = 'display_data';\n",
              "        await google.colab.output.renderOutput(dataTable, element);\n",
              "        const docLink = document.createElement('div');\n",
              "        docLink.innerHTML = docLinkHtml;\n",
              "        element.appendChild(docLink);\n",
              "      }\n",
              "    </script>\n",
              "  </div>\n",
              "\n",
              "\n",
              "<div id=\"df-df288052-2832-4996-9448-8d73038b5ded\">\n",
              "  <button class=\"colab-df-quickchart\" onclick=\"quickchart('df-df288052-2832-4996-9448-8d73038b5ded')\"\n",
              "            title=\"Suggest charts.\"\n",
              "            style=\"display:none;\">\n",
              "\n",
              "<svg xmlns=\"http://www.w3.org/2000/svg\" height=\"24px\"viewBox=\"0 0 24 24\"\n",
              "     width=\"24px\">\n",
              "    <g>\n",
              "        <path d=\"M19 3H5c-1.1 0-2 .9-2 2v14c0 1.1.9 2 2 2h14c1.1 0 2-.9 2-2V5c0-1.1-.9-2-2-2zM9 17H7v-7h2v7zm4 0h-2V7h2v10zm4 0h-2v-4h2v4z\"/>\n",
              "    </g>\n",
              "</svg>\n",
              "  </button>\n",
              "\n",
              "<style>\n",
              "  .colab-df-quickchart {\n",
              "      --bg-color: #E8F0FE;\n",
              "      --fill-color: #1967D2;\n",
              "      --hover-bg-color: #E2EBFA;\n",
              "      --hover-fill-color: #174EA6;\n",
              "      --disabled-fill-color: #AAA;\n",
              "      --disabled-bg-color: #DDD;\n",
              "  }\n",
              "\n",
              "  [theme=dark] .colab-df-quickchart {\n",
              "      --bg-color: #3B4455;\n",
              "      --fill-color: #D2E3FC;\n",
              "      --hover-bg-color: #434B5C;\n",
              "      --hover-fill-color: #FFFFFF;\n",
              "      --disabled-bg-color: #3B4455;\n",
              "      --disabled-fill-color: #666;\n",
              "  }\n",
              "\n",
              "  .colab-df-quickchart {\n",
              "    background-color: var(--bg-color);\n",
              "    border: none;\n",
              "    border-radius: 50%;\n",
              "    cursor: pointer;\n",
              "    display: none;\n",
              "    fill: var(--fill-color);\n",
              "    height: 32px;\n",
              "    padding: 0;\n",
              "    width: 32px;\n",
              "  }\n",
              "\n",
              "  .colab-df-quickchart:hover {\n",
              "    background-color: var(--hover-bg-color);\n",
              "    box-shadow: 0 1px 2px rgba(60, 64, 67, 0.3), 0 1px 3px 1px rgba(60, 64, 67, 0.15);\n",
              "    fill: var(--button-hover-fill-color);\n",
              "  }\n",
              "\n",
              "  .colab-df-quickchart-complete:disabled,\n",
              "  .colab-df-quickchart-complete:disabled:hover {\n",
              "    background-color: var(--disabled-bg-color);\n",
              "    fill: var(--disabled-fill-color);\n",
              "    box-shadow: none;\n",
              "  }\n",
              "\n",
              "  .colab-df-spinner {\n",
              "    border: 2px solid var(--fill-color);\n",
              "    border-color: transparent;\n",
              "    border-bottom-color: var(--fill-color);\n",
              "    animation:\n",
              "      spin 1s steps(1) infinite;\n",
              "  }\n",
              "\n",
              "  @keyframes spin {\n",
              "    0% {\n",
              "      border-color: transparent;\n",
              "      border-bottom-color: var(--fill-color);\n",
              "      border-left-color: var(--fill-color);\n",
              "    }\n",
              "    20% {\n",
              "      border-color: transparent;\n",
              "      border-left-color: var(--fill-color);\n",
              "      border-top-color: var(--fill-color);\n",
              "    }\n",
              "    30% {\n",
              "      border-color: transparent;\n",
              "      border-left-color: var(--fill-color);\n",
              "      border-top-color: var(--fill-color);\n",
              "      border-right-color: var(--fill-color);\n",
              "    }\n",
              "    40% {\n",
              "      border-color: transparent;\n",
              "      border-right-color: var(--fill-color);\n",
              "      border-top-color: var(--fill-color);\n",
              "    }\n",
              "    60% {\n",
              "      border-color: transparent;\n",
              "      border-right-color: var(--fill-color);\n",
              "    }\n",
              "    80% {\n",
              "      border-color: transparent;\n",
              "      border-right-color: var(--fill-color);\n",
              "      border-bottom-color: var(--fill-color);\n",
              "    }\n",
              "    90% {\n",
              "      border-color: transparent;\n",
              "      border-bottom-color: var(--fill-color);\n",
              "    }\n",
              "  }\n",
              "</style>\n",
              "\n",
              "  <script>\n",
              "    async function quickchart(key) {\n",
              "      const quickchartButtonEl =\n",
              "        document.querySelector('#' + key + ' button');\n",
              "      quickchartButtonEl.disabled = true;  // To prevent multiple clicks.\n",
              "      quickchartButtonEl.classList.add('colab-df-spinner');\n",
              "      try {\n",
              "        const charts = await google.colab.kernel.invokeFunction(\n",
              "            'suggestCharts', [key], {});\n",
              "      } catch (error) {\n",
              "        console.error('Error during call to suggestCharts:', error);\n",
              "      }\n",
              "      quickchartButtonEl.classList.remove('colab-df-spinner');\n",
              "      quickchartButtonEl.classList.add('colab-df-quickchart-complete');\n",
              "    }\n",
              "    (() => {\n",
              "      let quickchartButtonEl =\n",
              "        document.querySelector('#df-df288052-2832-4996-9448-8d73038b5ded button');\n",
              "      quickchartButtonEl.style.display =\n",
              "        google.colab.kernel.accessAllowed ? 'block' : 'none';\n",
              "    })();\n",
              "  </script>\n",
              "</div>\n",
              "    </div>\n",
              "  </div>\n"
            ]
          },
          "metadata": {},
          "execution_count": 83
        }
      ]
    },
    {
      "cell_type": "markdown",
      "source": [
        "Here, this code displays the metadata for the data set.  We see that there are 13580 records in the data set with 19 columns each. Some of these columns are noticeably lacking in entires, however. Car, BuildingArea, YearBuilt, and CouncilArea have missing data.  The amounts of missing data in BuildingArea and YearBuilt in particular are especially egregious."
      ],
      "metadata": {
        "id": "he01ypMSK1In"
      }
    },
    {
      "cell_type": "code",
      "source": [
        "df.info()"
      ],
      "metadata": {
        "id": "F9QDdkkZKppE",
        "colab": {
          "base_uri": "https://localhost:8080/"
        },
        "outputId": "c00770c4-480e-429e-a4b3-0c7b4af705f2"
      },
      "execution_count": null,
      "outputs": [
        {
          "output_type": "stream",
          "name": "stdout",
          "text": [
            "<class 'pandas.core.frame.DataFrame'>\n",
            "RangeIndex: 13580 entries, 0 to 13579\n",
            "Data columns (total 19 columns):\n",
            " #   Column         Non-Null Count  Dtype  \n",
            "---  ------         --------------  -----  \n",
            " 0   Suburb         13580 non-null  object \n",
            " 1   Address        13580 non-null  object \n",
            " 2   Rooms          13580 non-null  int64  \n",
            " 3   Type           13580 non-null  object \n",
            " 4   Price          13580 non-null  int64  \n",
            " 5   Method         13580 non-null  object \n",
            " 6   SellerG        13580 non-null  object \n",
            " 7   Date           13580 non-null  object \n",
            " 8   Distance       13580 non-null  float64\n",
            " 9   Postcode       13580 non-null  int64  \n",
            " 10  Bedroom2       13580 non-null  int64  \n",
            " 11  Bathroom       13580 non-null  int64  \n",
            " 12  Car            13518 non-null  float64\n",
            " 13  Landsize       13580 non-null  int64  \n",
            " 14  BuildingArea   7130 non-null   float64\n",
            " 15  YearBuilt      8205 non-null   float64\n",
            " 16  CouncilArea    12211 non-null  object \n",
            " 17  Regionname     13580 non-null  object \n",
            " 18  Propertycount  13580 non-null  int64  \n",
            "dtypes: float64(4), int64(7), object(8)\n",
            "memory usage: 2.0+ MB\n"
          ]
        }
      ]
    },
    {
      "cell_type": "markdown",
      "source": [
        "This code displays the descriptive statistics for the numerical data in the data set. Some peculiarites that might be worth noting are the unusual extrema in the Rooms column. Ten rooms is significantly higher than the 75th percentile and one room seems particularly low. The extrema in other columns, too, are concerning. Zero baths and zero bedrooms seems strange for housing and 20 bedrooms is certainly not typical.  The build year of 1196 is quite a while ago and doesn't fit with the rest of the data. The units for Landsize are not provided, but when considering the mean (558.4), the maximum of 433,014 seems unreasonbly high.  The same reasoning applies to BuildingArea. There are also zeros in these columns minima—not likely.\n",
        "\n",
        "All in all, there seem to be a number of ouliers or, perhaps, business logic errors in need of addressing."
      ],
      "metadata": {
        "id": "m_lN4X17K2EG"
      }
    },
    {
      "cell_type": "code",
      "source": [
        "df.describe()"
      ],
      "metadata": {
        "id": "vyIdBh6CKw5D",
        "colab": {
          "base_uri": "https://localhost:8080/",
          "height": 320
        },
        "outputId": "2ec82f48-f219-4314-8915-ee132f209bcf"
      },
      "execution_count": null,
      "outputs": [
        {
          "output_type": "execute_result",
          "data": {
            "text/plain": [
              "              Rooms         Price      Distance      Postcode      Bedroom2  \\\n",
              "count  13580.000000  1.358000e+04  13580.000000  13580.000000  13580.000000   \n",
              "mean       2.937997  1.075684e+06     10.137776   3105.301915      2.914728   \n",
              "std        0.955748  6.393107e+05      5.868725     90.676964      0.965921   \n",
              "min        1.000000  8.500000e+04      0.000000   3000.000000      0.000000   \n",
              "25%        2.000000  6.500000e+05      6.100000   3044.000000      2.000000   \n",
              "50%        3.000000  9.030000e+05      9.200000   3084.000000      3.000000   \n",
              "75%        3.000000  1.330000e+06     13.000000   3148.000000      3.000000   \n",
              "max       10.000000  9.000000e+06     48.100000   3977.000000     20.000000   \n",
              "\n",
              "           Bathroom           Car       Landsize  BuildingArea    YearBuilt  \\\n",
              "count  13580.000000  13518.000000   13580.000000   7130.000000  8205.000000   \n",
              "mean       1.534242      1.610075     558.416127    151.967650  1964.684217   \n",
              "std        0.691712      0.962634    3990.669241    541.014538    37.273762   \n",
              "min        0.000000      0.000000       0.000000      0.000000  1196.000000   \n",
              "25%        1.000000      1.000000     177.000000     93.000000  1940.000000   \n",
              "50%        1.000000      2.000000     440.000000    126.000000  1970.000000   \n",
              "75%        2.000000      2.000000     651.000000    174.000000  1999.000000   \n",
              "max        8.000000     10.000000  433014.000000  44515.000000  2018.000000   \n",
              "\n",
              "       Propertycount  \n",
              "count   13580.000000  \n",
              "mean     7454.417378  \n",
              "std      4378.581772  \n",
              "min       249.000000  \n",
              "25%      4380.000000  \n",
              "50%      6555.000000  \n",
              "75%     10331.000000  \n",
              "max     21650.000000  "
            ],
            "text/html": [
              "\n",
              "  <div id=\"df-3d4814a9-02db-416e-a7bd-be86f764c78c\" class=\"colab-df-container\">\n",
              "    <div>\n",
              "<style scoped>\n",
              "    .dataframe tbody tr th:only-of-type {\n",
              "        vertical-align: middle;\n",
              "    }\n",
              "\n",
              "    .dataframe tbody tr th {\n",
              "        vertical-align: top;\n",
              "    }\n",
              "\n",
              "    .dataframe thead th {\n",
              "        text-align: right;\n",
              "    }\n",
              "</style>\n",
              "<table border=\"1\" class=\"dataframe\">\n",
              "  <thead>\n",
              "    <tr style=\"text-align: right;\">\n",
              "      <th></th>\n",
              "      <th>Rooms</th>\n",
              "      <th>Price</th>\n",
              "      <th>Distance</th>\n",
              "      <th>Postcode</th>\n",
              "      <th>Bedroom2</th>\n",
              "      <th>Bathroom</th>\n",
              "      <th>Car</th>\n",
              "      <th>Landsize</th>\n",
              "      <th>BuildingArea</th>\n",
              "      <th>YearBuilt</th>\n",
              "      <th>Propertycount</th>\n",
              "    </tr>\n",
              "  </thead>\n",
              "  <tbody>\n",
              "    <tr>\n",
              "      <th>count</th>\n",
              "      <td>13580.000000</td>\n",
              "      <td>1.358000e+04</td>\n",
              "      <td>13580.000000</td>\n",
              "      <td>13580.000000</td>\n",
              "      <td>13580.000000</td>\n",
              "      <td>13580.000000</td>\n",
              "      <td>13518.000000</td>\n",
              "      <td>13580.000000</td>\n",
              "      <td>7130.000000</td>\n",
              "      <td>8205.000000</td>\n",
              "      <td>13580.000000</td>\n",
              "    </tr>\n",
              "    <tr>\n",
              "      <th>mean</th>\n",
              "      <td>2.937997</td>\n",
              "      <td>1.075684e+06</td>\n",
              "      <td>10.137776</td>\n",
              "      <td>3105.301915</td>\n",
              "      <td>2.914728</td>\n",
              "      <td>1.534242</td>\n",
              "      <td>1.610075</td>\n",
              "      <td>558.416127</td>\n",
              "      <td>151.967650</td>\n",
              "      <td>1964.684217</td>\n",
              "      <td>7454.417378</td>\n",
              "    </tr>\n",
              "    <tr>\n",
              "      <th>std</th>\n",
              "      <td>0.955748</td>\n",
              "      <td>6.393107e+05</td>\n",
              "      <td>5.868725</td>\n",
              "      <td>90.676964</td>\n",
              "      <td>0.965921</td>\n",
              "      <td>0.691712</td>\n",
              "      <td>0.962634</td>\n",
              "      <td>3990.669241</td>\n",
              "      <td>541.014538</td>\n",
              "      <td>37.273762</td>\n",
              "      <td>4378.581772</td>\n",
              "    </tr>\n",
              "    <tr>\n",
              "      <th>min</th>\n",
              "      <td>1.000000</td>\n",
              "      <td>8.500000e+04</td>\n",
              "      <td>0.000000</td>\n",
              "      <td>3000.000000</td>\n",
              "      <td>0.000000</td>\n",
              "      <td>0.000000</td>\n",
              "      <td>0.000000</td>\n",
              "      <td>0.000000</td>\n",
              "      <td>0.000000</td>\n",
              "      <td>1196.000000</td>\n",
              "      <td>249.000000</td>\n",
              "    </tr>\n",
              "    <tr>\n",
              "      <th>25%</th>\n",
              "      <td>2.000000</td>\n",
              "      <td>6.500000e+05</td>\n",
              "      <td>6.100000</td>\n",
              "      <td>3044.000000</td>\n",
              "      <td>2.000000</td>\n",
              "      <td>1.000000</td>\n",
              "      <td>1.000000</td>\n",
              "      <td>177.000000</td>\n",
              "      <td>93.000000</td>\n",
              "      <td>1940.000000</td>\n",
              "      <td>4380.000000</td>\n",
              "    </tr>\n",
              "    <tr>\n",
              "      <th>50%</th>\n",
              "      <td>3.000000</td>\n",
              "      <td>9.030000e+05</td>\n",
              "      <td>9.200000</td>\n",
              "      <td>3084.000000</td>\n",
              "      <td>3.000000</td>\n",
              "      <td>1.000000</td>\n",
              "      <td>2.000000</td>\n",
              "      <td>440.000000</td>\n",
              "      <td>126.000000</td>\n",
              "      <td>1970.000000</td>\n",
              "      <td>6555.000000</td>\n",
              "    </tr>\n",
              "    <tr>\n",
              "      <th>75%</th>\n",
              "      <td>3.000000</td>\n",
              "      <td>1.330000e+06</td>\n",
              "      <td>13.000000</td>\n",
              "      <td>3148.000000</td>\n",
              "      <td>3.000000</td>\n",
              "      <td>2.000000</td>\n",
              "      <td>2.000000</td>\n",
              "      <td>651.000000</td>\n",
              "      <td>174.000000</td>\n",
              "      <td>1999.000000</td>\n",
              "      <td>10331.000000</td>\n",
              "    </tr>\n",
              "    <tr>\n",
              "      <th>max</th>\n",
              "      <td>10.000000</td>\n",
              "      <td>9.000000e+06</td>\n",
              "      <td>48.100000</td>\n",
              "      <td>3977.000000</td>\n",
              "      <td>20.000000</td>\n",
              "      <td>8.000000</td>\n",
              "      <td>10.000000</td>\n",
              "      <td>433014.000000</td>\n",
              "      <td>44515.000000</td>\n",
              "      <td>2018.000000</td>\n",
              "      <td>21650.000000</td>\n",
              "    </tr>\n",
              "  </tbody>\n",
              "</table>\n",
              "</div>\n",
              "    <div class=\"colab-df-buttons\">\n",
              "\n",
              "  <div class=\"colab-df-container\">\n",
              "    <button class=\"colab-df-convert\" onclick=\"convertToInteractive('df-3d4814a9-02db-416e-a7bd-be86f764c78c')\"\n",
              "            title=\"Convert this dataframe to an interactive table.\"\n",
              "            style=\"display:none;\">\n",
              "\n",
              "  <svg xmlns=\"http://www.w3.org/2000/svg\" height=\"24px\" viewBox=\"0 -960 960 960\">\n",
              "    <path d=\"M120-120v-720h720v720H120Zm60-500h600v-160H180v160Zm220 220h160v-160H400v160Zm0 220h160v-160H400v160ZM180-400h160v-160H180v160Zm440 0h160v-160H620v160ZM180-180h160v-160H180v160Zm440 0h160v-160H620v160Z\"/>\n",
              "  </svg>\n",
              "    </button>\n",
              "\n",
              "  <style>\n",
              "    .colab-df-container {\n",
              "      display:flex;\n",
              "      gap: 12px;\n",
              "    }\n",
              "\n",
              "    .colab-df-convert {\n",
              "      background-color: #E8F0FE;\n",
              "      border: none;\n",
              "      border-radius: 50%;\n",
              "      cursor: pointer;\n",
              "      display: none;\n",
              "      fill: #1967D2;\n",
              "      height: 32px;\n",
              "      padding: 0 0 0 0;\n",
              "      width: 32px;\n",
              "    }\n",
              "\n",
              "    .colab-df-convert:hover {\n",
              "      background-color: #E2EBFA;\n",
              "      box-shadow: 0px 1px 2px rgba(60, 64, 67, 0.3), 0px 1px 3px 1px rgba(60, 64, 67, 0.15);\n",
              "      fill: #174EA6;\n",
              "    }\n",
              "\n",
              "    .colab-df-buttons div {\n",
              "      margin-bottom: 4px;\n",
              "    }\n",
              "\n",
              "    [theme=dark] .colab-df-convert {\n",
              "      background-color: #3B4455;\n",
              "      fill: #D2E3FC;\n",
              "    }\n",
              "\n",
              "    [theme=dark] .colab-df-convert:hover {\n",
              "      background-color: #434B5C;\n",
              "      box-shadow: 0px 1px 3px 1px rgba(0, 0, 0, 0.15);\n",
              "      filter: drop-shadow(0px 1px 2px rgba(0, 0, 0, 0.3));\n",
              "      fill: #FFFFFF;\n",
              "    }\n",
              "  </style>\n",
              "\n",
              "    <script>\n",
              "      const buttonEl =\n",
              "        document.querySelector('#df-3d4814a9-02db-416e-a7bd-be86f764c78c button.colab-df-convert');\n",
              "      buttonEl.style.display =\n",
              "        google.colab.kernel.accessAllowed ? 'block' : 'none';\n",
              "\n",
              "      async function convertToInteractive(key) {\n",
              "        const element = document.querySelector('#df-3d4814a9-02db-416e-a7bd-be86f764c78c');\n",
              "        const dataTable =\n",
              "          await google.colab.kernel.invokeFunction('convertToInteractive',\n",
              "                                                    [key], {});\n",
              "        if (!dataTable) return;\n",
              "\n",
              "        const docLinkHtml = 'Like what you see? Visit the ' +\n",
              "          '<a target=\"_blank\" href=https://colab.research.google.com/notebooks/data_table.ipynb>data table notebook</a>'\n",
              "          + ' to learn more about interactive tables.';\n",
              "        element.innerHTML = '';\n",
              "        dataTable['output_type'] = 'display_data';\n",
              "        await google.colab.output.renderOutput(dataTable, element);\n",
              "        const docLink = document.createElement('div');\n",
              "        docLink.innerHTML = docLinkHtml;\n",
              "        element.appendChild(docLink);\n",
              "      }\n",
              "    </script>\n",
              "  </div>\n",
              "\n",
              "\n",
              "<div id=\"df-7ab5324b-7b61-467a-b606-dcb74d04ec13\">\n",
              "  <button class=\"colab-df-quickchart\" onclick=\"quickchart('df-7ab5324b-7b61-467a-b606-dcb74d04ec13')\"\n",
              "            title=\"Suggest charts.\"\n",
              "            style=\"display:none;\">\n",
              "\n",
              "<svg xmlns=\"http://www.w3.org/2000/svg\" height=\"24px\"viewBox=\"0 0 24 24\"\n",
              "     width=\"24px\">\n",
              "    <g>\n",
              "        <path d=\"M19 3H5c-1.1 0-2 .9-2 2v14c0 1.1.9 2 2 2h14c1.1 0 2-.9 2-2V5c0-1.1-.9-2-2-2zM9 17H7v-7h2v7zm4 0h-2V7h2v10zm4 0h-2v-4h2v4z\"/>\n",
              "    </g>\n",
              "</svg>\n",
              "  </button>\n",
              "\n",
              "<style>\n",
              "  .colab-df-quickchart {\n",
              "      --bg-color: #E8F0FE;\n",
              "      --fill-color: #1967D2;\n",
              "      --hover-bg-color: #E2EBFA;\n",
              "      --hover-fill-color: #174EA6;\n",
              "      --disabled-fill-color: #AAA;\n",
              "      --disabled-bg-color: #DDD;\n",
              "  }\n",
              "\n",
              "  [theme=dark] .colab-df-quickchart {\n",
              "      --bg-color: #3B4455;\n",
              "      --fill-color: #D2E3FC;\n",
              "      --hover-bg-color: #434B5C;\n",
              "      --hover-fill-color: #FFFFFF;\n",
              "      --disabled-bg-color: #3B4455;\n",
              "      --disabled-fill-color: #666;\n",
              "  }\n",
              "\n",
              "  .colab-df-quickchart {\n",
              "    background-color: var(--bg-color);\n",
              "    border: none;\n",
              "    border-radius: 50%;\n",
              "    cursor: pointer;\n",
              "    display: none;\n",
              "    fill: var(--fill-color);\n",
              "    height: 32px;\n",
              "    padding: 0;\n",
              "    width: 32px;\n",
              "  }\n",
              "\n",
              "  .colab-df-quickchart:hover {\n",
              "    background-color: var(--hover-bg-color);\n",
              "    box-shadow: 0 1px 2px rgba(60, 64, 67, 0.3), 0 1px 3px 1px rgba(60, 64, 67, 0.15);\n",
              "    fill: var(--button-hover-fill-color);\n",
              "  }\n",
              "\n",
              "  .colab-df-quickchart-complete:disabled,\n",
              "  .colab-df-quickchart-complete:disabled:hover {\n",
              "    background-color: var(--disabled-bg-color);\n",
              "    fill: var(--disabled-fill-color);\n",
              "    box-shadow: none;\n",
              "  }\n",
              "\n",
              "  .colab-df-spinner {\n",
              "    border: 2px solid var(--fill-color);\n",
              "    border-color: transparent;\n",
              "    border-bottom-color: var(--fill-color);\n",
              "    animation:\n",
              "      spin 1s steps(1) infinite;\n",
              "  }\n",
              "\n",
              "  @keyframes spin {\n",
              "    0% {\n",
              "      border-color: transparent;\n",
              "      border-bottom-color: var(--fill-color);\n",
              "      border-left-color: var(--fill-color);\n",
              "    }\n",
              "    20% {\n",
              "      border-color: transparent;\n",
              "      border-left-color: var(--fill-color);\n",
              "      border-top-color: var(--fill-color);\n",
              "    }\n",
              "    30% {\n",
              "      border-color: transparent;\n",
              "      border-left-color: var(--fill-color);\n",
              "      border-top-color: var(--fill-color);\n",
              "      border-right-color: var(--fill-color);\n",
              "    }\n",
              "    40% {\n",
              "      border-color: transparent;\n",
              "      border-right-color: var(--fill-color);\n",
              "      border-top-color: var(--fill-color);\n",
              "    }\n",
              "    60% {\n",
              "      border-color: transparent;\n",
              "      border-right-color: var(--fill-color);\n",
              "    }\n",
              "    80% {\n",
              "      border-color: transparent;\n",
              "      border-right-color: var(--fill-color);\n",
              "      border-bottom-color: var(--fill-color);\n",
              "    }\n",
              "    90% {\n",
              "      border-color: transparent;\n",
              "      border-bottom-color: var(--fill-color);\n",
              "    }\n",
              "  }\n",
              "</style>\n",
              "\n",
              "  <script>\n",
              "    async function quickchart(key) {\n",
              "      const quickchartButtonEl =\n",
              "        document.querySelector('#' + key + ' button');\n",
              "      quickchartButtonEl.disabled = true;  // To prevent multiple clicks.\n",
              "      quickchartButtonEl.classList.add('colab-df-spinner');\n",
              "      try {\n",
              "        const charts = await google.colab.kernel.invokeFunction(\n",
              "            'suggestCharts', [key], {});\n",
              "      } catch (error) {\n",
              "        console.error('Error during call to suggestCharts:', error);\n",
              "      }\n",
              "      quickchartButtonEl.classList.remove('colab-df-spinner');\n",
              "      quickchartButtonEl.classList.add('colab-df-quickchart-complete');\n",
              "    }\n",
              "    (() => {\n",
              "      let quickchartButtonEl =\n",
              "        document.querySelector('#df-7ab5324b-7b61-467a-b606-dcb74d04ec13 button');\n",
              "      quickchartButtonEl.style.display =\n",
              "        google.colab.kernel.accessAllowed ? 'block' : 'none';\n",
              "    })();\n",
              "  </script>\n",
              "</div>\n",
              "    </div>\n",
              "  </div>\n"
            ]
          },
          "metadata": {},
          "execution_count": 85
        }
      ]
    },
    {
      "cell_type": "markdown",
      "source": [
        "###Duplicate Check"
      ],
      "metadata": {
        "id": "C81C91Vm1To9"
      }
    },
    {
      "cell_type": "markdown",
      "source": [
        "With a data set this size, it is always worth checking for any obvious duplicates.  The code below counts the number of exact duplicates in the data set. There are none—a good sign."
      ],
      "metadata": {
        "id": "b2XAvY7END1T"
      }
    },
    {
      "cell_type": "code",
      "source": [
        "df.duplicated().sum()"
      ],
      "metadata": {
        "colab": {
          "base_uri": "https://localhost:8080/"
        },
        "id": "jPrVIHf0qoyI",
        "outputId": "73d81280-0e32-4a3d-8ad6-982ef337ac07"
      },
      "execution_count": null,
      "outputs": [
        {
          "output_type": "execute_result",
          "data": {
            "text/plain": [
              "0"
            ]
          },
          "metadata": {},
          "execution_count": 86
        }
      ]
    },
    {
      "cell_type": "markdown",
      "source": [
        "Just in case, it may be a good decision to also check for imperfect duplicates by considering just the address and post code, which *should* be unique for each record.  This code does just that:"
      ],
      "metadata": {
        "id": "gj5mawVhrFPl"
      }
    },
    {
      "cell_type": "code",
      "source": [
        "df[df.duplicated(subset = ['Address', 'Postcode'], keep = False)].sort_values(by = 'Address')"
      ],
      "metadata": {
        "colab": {
          "base_uri": "https://localhost:8080/"
        },
        "id": "eNQy_rXwreqU",
        "outputId": "43dd0b18-7efb-467f-db9e-0af3e5c0dd1e"
      },
      "execution_count": null,
      "outputs": [
        {
          "output_type": "execute_result",
          "data": {
            "text/plain": [
              "                   Suburb           Address  Rooms Type    Price Method  \\\n",
              "9281              Preston    1 Bellarine St      5    h  1400000     PI   \n",
              "4958              Preston    1 Bellarine St      4    h  1400000     VB   \n",
              "7802             Essendon        1 Daisy St      4    h  1400000     VB   \n",
              "9144             Essendon        1 Daisy St      4    h  1360000      S   \n",
              "8055            Maidstone  1/1 Clarendon St      3    t   675000      S   \n",
              "...                   ...               ...    ...  ...      ...    ...   \n",
              "5119            Reservoir    9/99 Barton St      2    u   335000     SP   \n",
              "11069  Heidelberg Heights       97 Edwin St      4    h  1645000     PI   \n",
              "3227   Heidelberg Heights       97 Edwin St      2    h   815000     SP   \n",
              "6842              Carlton       99 Neill St      3    h  1550000     VB   \n",
              "6835              Carlton       99 Neill St      3    h  1600000     SP   \n",
              "\n",
              "             SellerG        Date  Distance  Postcode  Bedroom2  Bathroom  Car  \\\n",
              "9281   hockingstuart    3/6/2017       8.4      3072         5         2  2.0   \n",
              "4958          Jellis  18/03/2017       8.8      3072         4         2  2.0   \n",
              "7802          Nelson    8/4/2017       8.0      3040         4         2  1.0   \n",
              "9144          Jellis    3/6/2017       7.5      3040         4         2  1.0   \n",
              "8055          Biggin  22/04/2017       9.2      3012         3         2  2.0   \n",
              "...              ...         ...       ...       ...       ...       ...  ...   \n",
              "5119            Love  13/08/2016      11.2      3073         2         1  1.0   \n",
              "11069      Fletchers   12/8/2017       8.8      3081         4         2  4.0   \n",
              "3227       Fletchers    3/9/2016      10.5      3081         2         1  2.0   \n",
              "6842          Nelson  22/08/2016       1.8      3053         2         3  1.0   \n",
              "6835          Nelson  17/09/2016       1.8      3053         2         3  1.0   \n",
              "\n",
              "       Landsize  BuildingArea  YearBuilt    CouncilArea  \\\n",
              "9281        558         217.0     1925.0        Darebin   \n",
              "4958        559         217.0     1925.0        Darebin   \n",
              "7802        267           NaN        NaN  Moonee Valley   \n",
              "9144        267           NaN        NaN  Moonee Valley   \n",
              "8055        159         128.0     2016.0    Maribyrnong   \n",
              "...         ...           ...        ...            ...   \n",
              "5119          0          54.0     2012.0        Darebin   \n",
              "11069       596         120.0     1930.0        Banyule   \n",
              "3227        589         120.0     1930.0        Banyule   \n",
              "6842          0         192.0        NaN      Melbourne   \n",
              "6835          0         192.0        NaN      Melbourne   \n",
              "\n",
              "                  Regionname  Propertycount  \n",
              "9281   Northern Metropolitan          14577  \n",
              "4958   Northern Metropolitan          14577  \n",
              "7802    Western Metropolitan           9264  \n",
              "9144    Western Metropolitan           9264  \n",
              "8055    Western Metropolitan           3873  \n",
              "...                      ...            ...  \n",
              "5119   Northern Metropolitan          21650  \n",
              "11069   Eastern Metropolitan           2947  \n",
              "3227    Eastern Metropolitan           2947  \n",
              "6842   Northern Metropolitan           6786  \n",
              "6835   Northern Metropolitan           6786  \n",
              "\n",
              "[226 rows x 19 columns]"
            ],
            "text/html": [
              "\n",
              "  <div id=\"df-01e136f1-ab10-40f8-8328-ffaabccb147c\" class=\"colab-df-container\">\n",
              "    <div>\n",
              "<style scoped>\n",
              "    .dataframe tbody tr th:only-of-type {\n",
              "        vertical-align: middle;\n",
              "    }\n",
              "\n",
              "    .dataframe tbody tr th {\n",
              "        vertical-align: top;\n",
              "    }\n",
              "\n",
              "    .dataframe thead th {\n",
              "        text-align: right;\n",
              "    }\n",
              "</style>\n",
              "<table border=\"1\" class=\"dataframe\">\n",
              "  <thead>\n",
              "    <tr style=\"text-align: right;\">\n",
              "      <th></th>\n",
              "      <th>Suburb</th>\n",
              "      <th>Address</th>\n",
              "      <th>Rooms</th>\n",
              "      <th>Type</th>\n",
              "      <th>Price</th>\n",
              "      <th>Method</th>\n",
              "      <th>SellerG</th>\n",
              "      <th>Date</th>\n",
              "      <th>Distance</th>\n",
              "      <th>Postcode</th>\n",
              "      <th>Bedroom2</th>\n",
              "      <th>Bathroom</th>\n",
              "      <th>Car</th>\n",
              "      <th>Landsize</th>\n",
              "      <th>BuildingArea</th>\n",
              "      <th>YearBuilt</th>\n",
              "      <th>CouncilArea</th>\n",
              "      <th>Regionname</th>\n",
              "      <th>Propertycount</th>\n",
              "    </tr>\n",
              "  </thead>\n",
              "  <tbody>\n",
              "    <tr>\n",
              "      <th>9281</th>\n",
              "      <td>Preston</td>\n",
              "      <td>1 Bellarine St</td>\n",
              "      <td>5</td>\n",
              "      <td>h</td>\n",
              "      <td>1400000</td>\n",
              "      <td>PI</td>\n",
              "      <td>hockingstuart</td>\n",
              "      <td>3/6/2017</td>\n",
              "      <td>8.4</td>\n",
              "      <td>3072</td>\n",
              "      <td>5</td>\n",
              "      <td>2</td>\n",
              "      <td>2.0</td>\n",
              "      <td>558</td>\n",
              "      <td>217.0</td>\n",
              "      <td>1925.0</td>\n",
              "      <td>Darebin</td>\n",
              "      <td>Northern Metropolitan</td>\n",
              "      <td>14577</td>\n",
              "    </tr>\n",
              "    <tr>\n",
              "      <th>4958</th>\n",
              "      <td>Preston</td>\n",
              "      <td>1 Bellarine St</td>\n",
              "      <td>4</td>\n",
              "      <td>h</td>\n",
              "      <td>1400000</td>\n",
              "      <td>VB</td>\n",
              "      <td>Jellis</td>\n",
              "      <td>18/03/2017</td>\n",
              "      <td>8.8</td>\n",
              "      <td>3072</td>\n",
              "      <td>4</td>\n",
              "      <td>2</td>\n",
              "      <td>2.0</td>\n",
              "      <td>559</td>\n",
              "      <td>217.0</td>\n",
              "      <td>1925.0</td>\n",
              "      <td>Darebin</td>\n",
              "      <td>Northern Metropolitan</td>\n",
              "      <td>14577</td>\n",
              "    </tr>\n",
              "    <tr>\n",
              "      <th>7802</th>\n",
              "      <td>Essendon</td>\n",
              "      <td>1 Daisy St</td>\n",
              "      <td>4</td>\n",
              "      <td>h</td>\n",
              "      <td>1400000</td>\n",
              "      <td>VB</td>\n",
              "      <td>Nelson</td>\n",
              "      <td>8/4/2017</td>\n",
              "      <td>8.0</td>\n",
              "      <td>3040</td>\n",
              "      <td>4</td>\n",
              "      <td>2</td>\n",
              "      <td>1.0</td>\n",
              "      <td>267</td>\n",
              "      <td>NaN</td>\n",
              "      <td>NaN</td>\n",
              "      <td>Moonee Valley</td>\n",
              "      <td>Western Metropolitan</td>\n",
              "      <td>9264</td>\n",
              "    </tr>\n",
              "    <tr>\n",
              "      <th>9144</th>\n",
              "      <td>Essendon</td>\n",
              "      <td>1 Daisy St</td>\n",
              "      <td>4</td>\n",
              "      <td>h</td>\n",
              "      <td>1360000</td>\n",
              "      <td>S</td>\n",
              "      <td>Jellis</td>\n",
              "      <td>3/6/2017</td>\n",
              "      <td>7.5</td>\n",
              "      <td>3040</td>\n",
              "      <td>4</td>\n",
              "      <td>2</td>\n",
              "      <td>1.0</td>\n",
              "      <td>267</td>\n",
              "      <td>NaN</td>\n",
              "      <td>NaN</td>\n",
              "      <td>Moonee Valley</td>\n",
              "      <td>Western Metropolitan</td>\n",
              "      <td>9264</td>\n",
              "    </tr>\n",
              "    <tr>\n",
              "      <th>8055</th>\n",
              "      <td>Maidstone</td>\n",
              "      <td>1/1 Clarendon St</td>\n",
              "      <td>3</td>\n",
              "      <td>t</td>\n",
              "      <td>675000</td>\n",
              "      <td>S</td>\n",
              "      <td>Biggin</td>\n",
              "      <td>22/04/2017</td>\n",
              "      <td>9.2</td>\n",
              "      <td>3012</td>\n",
              "      <td>3</td>\n",
              "      <td>2</td>\n",
              "      <td>2.0</td>\n",
              "      <td>159</td>\n",
              "      <td>128.0</td>\n",
              "      <td>2016.0</td>\n",
              "      <td>Maribyrnong</td>\n",
              "      <td>Western Metropolitan</td>\n",
              "      <td>3873</td>\n",
              "    </tr>\n",
              "    <tr>\n",
              "      <th>...</th>\n",
              "      <td>...</td>\n",
              "      <td>...</td>\n",
              "      <td>...</td>\n",
              "      <td>...</td>\n",
              "      <td>...</td>\n",
              "      <td>...</td>\n",
              "      <td>...</td>\n",
              "      <td>...</td>\n",
              "      <td>...</td>\n",
              "      <td>...</td>\n",
              "      <td>...</td>\n",
              "      <td>...</td>\n",
              "      <td>...</td>\n",
              "      <td>...</td>\n",
              "      <td>...</td>\n",
              "      <td>...</td>\n",
              "      <td>...</td>\n",
              "      <td>...</td>\n",
              "      <td>...</td>\n",
              "    </tr>\n",
              "    <tr>\n",
              "      <th>5119</th>\n",
              "      <td>Reservoir</td>\n",
              "      <td>9/99 Barton St</td>\n",
              "      <td>2</td>\n",
              "      <td>u</td>\n",
              "      <td>335000</td>\n",
              "      <td>SP</td>\n",
              "      <td>Love</td>\n",
              "      <td>13/08/2016</td>\n",
              "      <td>11.2</td>\n",
              "      <td>3073</td>\n",
              "      <td>2</td>\n",
              "      <td>1</td>\n",
              "      <td>1.0</td>\n",
              "      <td>0</td>\n",
              "      <td>54.0</td>\n",
              "      <td>2012.0</td>\n",
              "      <td>Darebin</td>\n",
              "      <td>Northern Metropolitan</td>\n",
              "      <td>21650</td>\n",
              "    </tr>\n",
              "    <tr>\n",
              "      <th>11069</th>\n",
              "      <td>Heidelberg Heights</td>\n",
              "      <td>97 Edwin St</td>\n",
              "      <td>4</td>\n",
              "      <td>h</td>\n",
              "      <td>1645000</td>\n",
              "      <td>PI</td>\n",
              "      <td>Fletchers</td>\n",
              "      <td>12/8/2017</td>\n",
              "      <td>8.8</td>\n",
              "      <td>3081</td>\n",
              "      <td>4</td>\n",
              "      <td>2</td>\n",
              "      <td>4.0</td>\n",
              "      <td>596</td>\n",
              "      <td>120.0</td>\n",
              "      <td>1930.0</td>\n",
              "      <td>Banyule</td>\n",
              "      <td>Eastern Metropolitan</td>\n",
              "      <td>2947</td>\n",
              "    </tr>\n",
              "    <tr>\n",
              "      <th>3227</th>\n",
              "      <td>Heidelberg Heights</td>\n",
              "      <td>97 Edwin St</td>\n",
              "      <td>2</td>\n",
              "      <td>h</td>\n",
              "      <td>815000</td>\n",
              "      <td>SP</td>\n",
              "      <td>Fletchers</td>\n",
              "      <td>3/9/2016</td>\n",
              "      <td>10.5</td>\n",
              "      <td>3081</td>\n",
              "      <td>2</td>\n",
              "      <td>1</td>\n",
              "      <td>2.0</td>\n",
              "      <td>589</td>\n",
              "      <td>120.0</td>\n",
              "      <td>1930.0</td>\n",
              "      <td>Banyule</td>\n",
              "      <td>Eastern Metropolitan</td>\n",
              "      <td>2947</td>\n",
              "    </tr>\n",
              "    <tr>\n",
              "      <th>6842</th>\n",
              "      <td>Carlton</td>\n",
              "      <td>99 Neill St</td>\n",
              "      <td>3</td>\n",
              "      <td>h</td>\n",
              "      <td>1550000</td>\n",
              "      <td>VB</td>\n",
              "      <td>Nelson</td>\n",
              "      <td>22/08/2016</td>\n",
              "      <td>1.8</td>\n",
              "      <td>3053</td>\n",
              "      <td>2</td>\n",
              "      <td>3</td>\n",
              "      <td>1.0</td>\n",
              "      <td>0</td>\n",
              "      <td>192.0</td>\n",
              "      <td>NaN</td>\n",
              "      <td>Melbourne</td>\n",
              "      <td>Northern Metropolitan</td>\n",
              "      <td>6786</td>\n",
              "    </tr>\n",
              "    <tr>\n",
              "      <th>6835</th>\n",
              "      <td>Carlton</td>\n",
              "      <td>99 Neill St</td>\n",
              "      <td>3</td>\n",
              "      <td>h</td>\n",
              "      <td>1600000</td>\n",
              "      <td>SP</td>\n",
              "      <td>Nelson</td>\n",
              "      <td>17/09/2016</td>\n",
              "      <td>1.8</td>\n",
              "      <td>3053</td>\n",
              "      <td>2</td>\n",
              "      <td>3</td>\n",
              "      <td>1.0</td>\n",
              "      <td>0</td>\n",
              "      <td>192.0</td>\n",
              "      <td>NaN</td>\n",
              "      <td>Melbourne</td>\n",
              "      <td>Northern Metropolitan</td>\n",
              "      <td>6786</td>\n",
              "    </tr>\n",
              "  </tbody>\n",
              "</table>\n",
              "<p>226 rows × 19 columns</p>\n",
              "</div>\n",
              "    <div class=\"colab-df-buttons\">\n",
              "\n",
              "  <div class=\"colab-df-container\">\n",
              "    <button class=\"colab-df-convert\" onclick=\"convertToInteractive('df-01e136f1-ab10-40f8-8328-ffaabccb147c')\"\n",
              "            title=\"Convert this dataframe to an interactive table.\"\n",
              "            style=\"display:none;\">\n",
              "\n",
              "  <svg xmlns=\"http://www.w3.org/2000/svg\" height=\"24px\" viewBox=\"0 -960 960 960\">\n",
              "    <path d=\"M120-120v-720h720v720H120Zm60-500h600v-160H180v160Zm220 220h160v-160H400v160Zm0 220h160v-160H400v160ZM180-400h160v-160H180v160Zm440 0h160v-160H620v160ZM180-180h160v-160H180v160Zm440 0h160v-160H620v160Z\"/>\n",
              "  </svg>\n",
              "    </button>\n",
              "\n",
              "  <style>\n",
              "    .colab-df-container {\n",
              "      display:flex;\n",
              "      gap: 12px;\n",
              "    }\n",
              "\n",
              "    .colab-df-convert {\n",
              "      background-color: #E8F0FE;\n",
              "      border: none;\n",
              "      border-radius: 50%;\n",
              "      cursor: pointer;\n",
              "      display: none;\n",
              "      fill: #1967D2;\n",
              "      height: 32px;\n",
              "      padding: 0 0 0 0;\n",
              "      width: 32px;\n",
              "    }\n",
              "\n",
              "    .colab-df-convert:hover {\n",
              "      background-color: #E2EBFA;\n",
              "      box-shadow: 0px 1px 2px rgba(60, 64, 67, 0.3), 0px 1px 3px 1px rgba(60, 64, 67, 0.15);\n",
              "      fill: #174EA6;\n",
              "    }\n",
              "\n",
              "    .colab-df-buttons div {\n",
              "      margin-bottom: 4px;\n",
              "    }\n",
              "\n",
              "    [theme=dark] .colab-df-convert {\n",
              "      background-color: #3B4455;\n",
              "      fill: #D2E3FC;\n",
              "    }\n",
              "\n",
              "    [theme=dark] .colab-df-convert:hover {\n",
              "      background-color: #434B5C;\n",
              "      box-shadow: 0px 1px 3px 1px rgba(0, 0, 0, 0.15);\n",
              "      filter: drop-shadow(0px 1px 2px rgba(0, 0, 0, 0.3));\n",
              "      fill: #FFFFFF;\n",
              "    }\n",
              "  </style>\n",
              "\n",
              "    <script>\n",
              "      const buttonEl =\n",
              "        document.querySelector('#df-01e136f1-ab10-40f8-8328-ffaabccb147c button.colab-df-convert');\n",
              "      buttonEl.style.display =\n",
              "        google.colab.kernel.accessAllowed ? 'block' : 'none';\n",
              "\n",
              "      async function convertToInteractive(key) {\n",
              "        const element = document.querySelector('#df-01e136f1-ab10-40f8-8328-ffaabccb147c');\n",
              "        const dataTable =\n",
              "          await google.colab.kernel.invokeFunction('convertToInteractive',\n",
              "                                                    [key], {});\n",
              "        if (!dataTable) return;\n",
              "\n",
              "        const docLinkHtml = 'Like what you see? Visit the ' +\n",
              "          '<a target=\"_blank\" href=https://colab.research.google.com/notebooks/data_table.ipynb>data table notebook</a>'\n",
              "          + ' to learn more about interactive tables.';\n",
              "        element.innerHTML = '';\n",
              "        dataTable['output_type'] = 'display_data';\n",
              "        await google.colab.output.renderOutput(dataTable, element);\n",
              "        const docLink = document.createElement('div');\n",
              "        docLink.innerHTML = docLinkHtml;\n",
              "        element.appendChild(docLink);\n",
              "      }\n",
              "    </script>\n",
              "  </div>\n",
              "\n",
              "\n",
              "<div id=\"df-c925355d-09d6-4d4f-ad8a-1a30ba237276\">\n",
              "  <button class=\"colab-df-quickchart\" onclick=\"quickchart('df-c925355d-09d6-4d4f-ad8a-1a30ba237276')\"\n",
              "            title=\"Suggest charts.\"\n",
              "            style=\"display:none;\">\n",
              "\n",
              "<svg xmlns=\"http://www.w3.org/2000/svg\" height=\"24px\"viewBox=\"0 0 24 24\"\n",
              "     width=\"24px\">\n",
              "    <g>\n",
              "        <path d=\"M19 3H5c-1.1 0-2 .9-2 2v14c0 1.1.9 2 2 2h14c1.1 0 2-.9 2-2V5c0-1.1-.9-2-2-2zM9 17H7v-7h2v7zm4 0h-2V7h2v10zm4 0h-2v-4h2v4z\"/>\n",
              "    </g>\n",
              "</svg>\n",
              "  </button>\n",
              "\n",
              "<style>\n",
              "  .colab-df-quickchart {\n",
              "      --bg-color: #E8F0FE;\n",
              "      --fill-color: #1967D2;\n",
              "      --hover-bg-color: #E2EBFA;\n",
              "      --hover-fill-color: #174EA6;\n",
              "      --disabled-fill-color: #AAA;\n",
              "      --disabled-bg-color: #DDD;\n",
              "  }\n",
              "\n",
              "  [theme=dark] .colab-df-quickchart {\n",
              "      --bg-color: #3B4455;\n",
              "      --fill-color: #D2E3FC;\n",
              "      --hover-bg-color: #434B5C;\n",
              "      --hover-fill-color: #FFFFFF;\n",
              "      --disabled-bg-color: #3B4455;\n",
              "      --disabled-fill-color: #666;\n",
              "  }\n",
              "\n",
              "  .colab-df-quickchart {\n",
              "    background-color: var(--bg-color);\n",
              "    border: none;\n",
              "    border-radius: 50%;\n",
              "    cursor: pointer;\n",
              "    display: none;\n",
              "    fill: var(--fill-color);\n",
              "    height: 32px;\n",
              "    padding: 0;\n",
              "    width: 32px;\n",
              "  }\n",
              "\n",
              "  .colab-df-quickchart:hover {\n",
              "    background-color: var(--hover-bg-color);\n",
              "    box-shadow: 0 1px 2px rgba(60, 64, 67, 0.3), 0 1px 3px 1px rgba(60, 64, 67, 0.15);\n",
              "    fill: var(--button-hover-fill-color);\n",
              "  }\n",
              "\n",
              "  .colab-df-quickchart-complete:disabled,\n",
              "  .colab-df-quickchart-complete:disabled:hover {\n",
              "    background-color: var(--disabled-bg-color);\n",
              "    fill: var(--disabled-fill-color);\n",
              "    box-shadow: none;\n",
              "  }\n",
              "\n",
              "  .colab-df-spinner {\n",
              "    border: 2px solid var(--fill-color);\n",
              "    border-color: transparent;\n",
              "    border-bottom-color: var(--fill-color);\n",
              "    animation:\n",
              "      spin 1s steps(1) infinite;\n",
              "  }\n",
              "\n",
              "  @keyframes spin {\n",
              "    0% {\n",
              "      border-color: transparent;\n",
              "      border-bottom-color: var(--fill-color);\n",
              "      border-left-color: var(--fill-color);\n",
              "    }\n",
              "    20% {\n",
              "      border-color: transparent;\n",
              "      border-left-color: var(--fill-color);\n",
              "      border-top-color: var(--fill-color);\n",
              "    }\n",
              "    30% {\n",
              "      border-color: transparent;\n",
              "      border-left-color: var(--fill-color);\n",
              "      border-top-color: var(--fill-color);\n",
              "      border-right-color: var(--fill-color);\n",
              "    }\n",
              "    40% {\n",
              "      border-color: transparent;\n",
              "      border-right-color: var(--fill-color);\n",
              "      border-top-color: var(--fill-color);\n",
              "    }\n",
              "    60% {\n",
              "      border-color: transparent;\n",
              "      border-right-color: var(--fill-color);\n",
              "    }\n",
              "    80% {\n",
              "      border-color: transparent;\n",
              "      border-right-color: var(--fill-color);\n",
              "      border-bottom-color: var(--fill-color);\n",
              "    }\n",
              "    90% {\n",
              "      border-color: transparent;\n",
              "      border-bottom-color: var(--fill-color);\n",
              "    }\n",
              "  }\n",
              "</style>\n",
              "\n",
              "  <script>\n",
              "    async function quickchart(key) {\n",
              "      const quickchartButtonEl =\n",
              "        document.querySelector('#' + key + ' button');\n",
              "      quickchartButtonEl.disabled = true;  // To prevent multiple clicks.\n",
              "      quickchartButtonEl.classList.add('colab-df-spinner');\n",
              "      try {\n",
              "        const charts = await google.colab.kernel.invokeFunction(\n",
              "            'suggestCharts', [key], {});\n",
              "      } catch (error) {\n",
              "        console.error('Error during call to suggestCharts:', error);\n",
              "      }\n",
              "      quickchartButtonEl.classList.remove('colab-df-spinner');\n",
              "      quickchartButtonEl.classList.add('colab-df-quickchart-complete');\n",
              "    }\n",
              "    (() => {\n",
              "      let quickchartButtonEl =\n",
              "        document.querySelector('#df-c925355d-09d6-4d4f-ad8a-1a30ba237276 button');\n",
              "      quickchartButtonEl.style.display =\n",
              "        google.colab.kernel.accessAllowed ? 'block' : 'none';\n",
              "    })();\n",
              "  </script>\n",
              "</div>\n",
              "    </div>\n",
              "  </div>\n"
            ]
          },
          "metadata": {},
          "execution_count": 87
        }
      ]
    },
    {
      "cell_type": "markdown",
      "source": [
        "Using this criteria, we can see we have quite a number of seemingly duplicated records.  However, upon closer inspection, we see that, among other factors, the date (presumably when it was put on the market) differs between duplicates. It is feasible that a property may be put on the market again after making some changes. So, in a final check for our overview, we will consider the date as well in our search.\n",
        "\n",
        "The code below searches again but also considers dates when looking for duplicates."
      ],
      "metadata": {
        "id": "3cWP1WeRt7zO"
      }
    },
    {
      "cell_type": "code",
      "source": [
        "df[df.duplicated(subset = ['Address', 'Postcode', 'Date'], keep = False)].sort_values(by = 'Address')"
      ],
      "metadata": {
        "colab": {
          "base_uri": "https://localhost:8080/"
        },
        "id": "GQ2wqzUdvZaJ",
        "outputId": "a6cccd71-b5c1-49ee-c7ad-fab3f353ce85"
      },
      "execution_count": null,
      "outputs": [
        {
          "output_type": "execute_result",
          "data": {
            "text/plain": [
              "      Suburb         Address  Rooms Type   Price Method  SellerG        Date  \\\n",
              "7769  Coburg  69 Victoria St      3    t  720000     PI      C21  29/04/2017   \n",
              "7770  Coburg  69 Victoria St      3    t  720000     PI  Century  29/04/2017   \n",
              "\n",
              "      Distance  Postcode  Bedroom2  Bathroom  Car  Landsize  BuildingArea  \\\n",
              "7769       7.8      3058         3         2  2.0       531         112.0   \n",
              "7770       7.8      3058         3         2  2.0       531         112.0   \n",
              "\n",
              "      YearBuilt CouncilArea             Regionname  Propertycount  \n",
              "7769     2016.0    Moreland  Northern Metropolitan          11204  \n",
              "7770     2016.0    Moreland  Northern Metropolitan          11204  "
            ],
            "text/html": [
              "\n",
              "  <div id=\"df-894de24d-ccb1-4474-a74a-52596aaa74ec\" class=\"colab-df-container\">\n",
              "    <div>\n",
              "<style scoped>\n",
              "    .dataframe tbody tr th:only-of-type {\n",
              "        vertical-align: middle;\n",
              "    }\n",
              "\n",
              "    .dataframe tbody tr th {\n",
              "        vertical-align: top;\n",
              "    }\n",
              "\n",
              "    .dataframe thead th {\n",
              "        text-align: right;\n",
              "    }\n",
              "</style>\n",
              "<table border=\"1\" class=\"dataframe\">\n",
              "  <thead>\n",
              "    <tr style=\"text-align: right;\">\n",
              "      <th></th>\n",
              "      <th>Suburb</th>\n",
              "      <th>Address</th>\n",
              "      <th>Rooms</th>\n",
              "      <th>Type</th>\n",
              "      <th>Price</th>\n",
              "      <th>Method</th>\n",
              "      <th>SellerG</th>\n",
              "      <th>Date</th>\n",
              "      <th>Distance</th>\n",
              "      <th>Postcode</th>\n",
              "      <th>Bedroom2</th>\n",
              "      <th>Bathroom</th>\n",
              "      <th>Car</th>\n",
              "      <th>Landsize</th>\n",
              "      <th>BuildingArea</th>\n",
              "      <th>YearBuilt</th>\n",
              "      <th>CouncilArea</th>\n",
              "      <th>Regionname</th>\n",
              "      <th>Propertycount</th>\n",
              "    </tr>\n",
              "  </thead>\n",
              "  <tbody>\n",
              "    <tr>\n",
              "      <th>7769</th>\n",
              "      <td>Coburg</td>\n",
              "      <td>69 Victoria St</td>\n",
              "      <td>3</td>\n",
              "      <td>t</td>\n",
              "      <td>720000</td>\n",
              "      <td>PI</td>\n",
              "      <td>C21</td>\n",
              "      <td>29/04/2017</td>\n",
              "      <td>7.8</td>\n",
              "      <td>3058</td>\n",
              "      <td>3</td>\n",
              "      <td>2</td>\n",
              "      <td>2.0</td>\n",
              "      <td>531</td>\n",
              "      <td>112.0</td>\n",
              "      <td>2016.0</td>\n",
              "      <td>Moreland</td>\n",
              "      <td>Northern Metropolitan</td>\n",
              "      <td>11204</td>\n",
              "    </tr>\n",
              "    <tr>\n",
              "      <th>7770</th>\n",
              "      <td>Coburg</td>\n",
              "      <td>69 Victoria St</td>\n",
              "      <td>3</td>\n",
              "      <td>t</td>\n",
              "      <td>720000</td>\n",
              "      <td>PI</td>\n",
              "      <td>Century</td>\n",
              "      <td>29/04/2017</td>\n",
              "      <td>7.8</td>\n",
              "      <td>3058</td>\n",
              "      <td>3</td>\n",
              "      <td>2</td>\n",
              "      <td>2.0</td>\n",
              "      <td>531</td>\n",
              "      <td>112.0</td>\n",
              "      <td>2016.0</td>\n",
              "      <td>Moreland</td>\n",
              "      <td>Northern Metropolitan</td>\n",
              "      <td>11204</td>\n",
              "    </tr>\n",
              "  </tbody>\n",
              "</table>\n",
              "</div>\n",
              "    <div class=\"colab-df-buttons\">\n",
              "\n",
              "  <div class=\"colab-df-container\">\n",
              "    <button class=\"colab-df-convert\" onclick=\"convertToInteractive('df-894de24d-ccb1-4474-a74a-52596aaa74ec')\"\n",
              "            title=\"Convert this dataframe to an interactive table.\"\n",
              "            style=\"display:none;\">\n",
              "\n",
              "  <svg xmlns=\"http://www.w3.org/2000/svg\" height=\"24px\" viewBox=\"0 -960 960 960\">\n",
              "    <path d=\"M120-120v-720h720v720H120Zm60-500h600v-160H180v160Zm220 220h160v-160H400v160Zm0 220h160v-160H400v160ZM180-400h160v-160H180v160Zm440 0h160v-160H620v160ZM180-180h160v-160H180v160Zm440 0h160v-160H620v160Z\"/>\n",
              "  </svg>\n",
              "    </button>\n",
              "\n",
              "  <style>\n",
              "    .colab-df-container {\n",
              "      display:flex;\n",
              "      gap: 12px;\n",
              "    }\n",
              "\n",
              "    .colab-df-convert {\n",
              "      background-color: #E8F0FE;\n",
              "      border: none;\n",
              "      border-radius: 50%;\n",
              "      cursor: pointer;\n",
              "      display: none;\n",
              "      fill: #1967D2;\n",
              "      height: 32px;\n",
              "      padding: 0 0 0 0;\n",
              "      width: 32px;\n",
              "    }\n",
              "\n",
              "    .colab-df-convert:hover {\n",
              "      background-color: #E2EBFA;\n",
              "      box-shadow: 0px 1px 2px rgba(60, 64, 67, 0.3), 0px 1px 3px 1px rgba(60, 64, 67, 0.15);\n",
              "      fill: #174EA6;\n",
              "    }\n",
              "\n",
              "    .colab-df-buttons div {\n",
              "      margin-bottom: 4px;\n",
              "    }\n",
              "\n",
              "    [theme=dark] .colab-df-convert {\n",
              "      background-color: #3B4455;\n",
              "      fill: #D2E3FC;\n",
              "    }\n",
              "\n",
              "    [theme=dark] .colab-df-convert:hover {\n",
              "      background-color: #434B5C;\n",
              "      box-shadow: 0px 1px 3px 1px rgba(0, 0, 0, 0.15);\n",
              "      filter: drop-shadow(0px 1px 2px rgba(0, 0, 0, 0.3));\n",
              "      fill: #FFFFFF;\n",
              "    }\n",
              "  </style>\n",
              "\n",
              "    <script>\n",
              "      const buttonEl =\n",
              "        document.querySelector('#df-894de24d-ccb1-4474-a74a-52596aaa74ec button.colab-df-convert');\n",
              "      buttonEl.style.display =\n",
              "        google.colab.kernel.accessAllowed ? 'block' : 'none';\n",
              "\n",
              "      async function convertToInteractive(key) {\n",
              "        const element = document.querySelector('#df-894de24d-ccb1-4474-a74a-52596aaa74ec');\n",
              "        const dataTable =\n",
              "          await google.colab.kernel.invokeFunction('convertToInteractive',\n",
              "                                                    [key], {});\n",
              "        if (!dataTable) return;\n",
              "\n",
              "        const docLinkHtml = 'Like what you see? Visit the ' +\n",
              "          '<a target=\"_blank\" href=https://colab.research.google.com/notebooks/data_table.ipynb>data table notebook</a>'\n",
              "          + ' to learn more about interactive tables.';\n",
              "        element.innerHTML = '';\n",
              "        dataTable['output_type'] = 'display_data';\n",
              "        await google.colab.output.renderOutput(dataTable, element);\n",
              "        const docLink = document.createElement('div');\n",
              "        docLink.innerHTML = docLinkHtml;\n",
              "        element.appendChild(docLink);\n",
              "      }\n",
              "    </script>\n",
              "  </div>\n",
              "\n",
              "\n",
              "<div id=\"df-1b505f6a-bee0-4c93-a6e3-8ed6806e06a9\">\n",
              "  <button class=\"colab-df-quickchart\" onclick=\"quickchart('df-1b505f6a-bee0-4c93-a6e3-8ed6806e06a9')\"\n",
              "            title=\"Suggest charts.\"\n",
              "            style=\"display:none;\">\n",
              "\n",
              "<svg xmlns=\"http://www.w3.org/2000/svg\" height=\"24px\"viewBox=\"0 0 24 24\"\n",
              "     width=\"24px\">\n",
              "    <g>\n",
              "        <path d=\"M19 3H5c-1.1 0-2 .9-2 2v14c0 1.1.9 2 2 2h14c1.1 0 2-.9 2-2V5c0-1.1-.9-2-2-2zM9 17H7v-7h2v7zm4 0h-2V7h2v10zm4 0h-2v-4h2v4z\"/>\n",
              "    </g>\n",
              "</svg>\n",
              "  </button>\n",
              "\n",
              "<style>\n",
              "  .colab-df-quickchart {\n",
              "      --bg-color: #E8F0FE;\n",
              "      --fill-color: #1967D2;\n",
              "      --hover-bg-color: #E2EBFA;\n",
              "      --hover-fill-color: #174EA6;\n",
              "      --disabled-fill-color: #AAA;\n",
              "      --disabled-bg-color: #DDD;\n",
              "  }\n",
              "\n",
              "  [theme=dark] .colab-df-quickchart {\n",
              "      --bg-color: #3B4455;\n",
              "      --fill-color: #D2E3FC;\n",
              "      --hover-bg-color: #434B5C;\n",
              "      --hover-fill-color: #FFFFFF;\n",
              "      --disabled-bg-color: #3B4455;\n",
              "      --disabled-fill-color: #666;\n",
              "  }\n",
              "\n",
              "  .colab-df-quickchart {\n",
              "    background-color: var(--bg-color);\n",
              "    border: none;\n",
              "    border-radius: 50%;\n",
              "    cursor: pointer;\n",
              "    display: none;\n",
              "    fill: var(--fill-color);\n",
              "    height: 32px;\n",
              "    padding: 0;\n",
              "    width: 32px;\n",
              "  }\n",
              "\n",
              "  .colab-df-quickchart:hover {\n",
              "    background-color: var(--hover-bg-color);\n",
              "    box-shadow: 0 1px 2px rgba(60, 64, 67, 0.3), 0 1px 3px 1px rgba(60, 64, 67, 0.15);\n",
              "    fill: var(--button-hover-fill-color);\n",
              "  }\n",
              "\n",
              "  .colab-df-quickchart-complete:disabled,\n",
              "  .colab-df-quickchart-complete:disabled:hover {\n",
              "    background-color: var(--disabled-bg-color);\n",
              "    fill: var(--disabled-fill-color);\n",
              "    box-shadow: none;\n",
              "  }\n",
              "\n",
              "  .colab-df-spinner {\n",
              "    border: 2px solid var(--fill-color);\n",
              "    border-color: transparent;\n",
              "    border-bottom-color: var(--fill-color);\n",
              "    animation:\n",
              "      spin 1s steps(1) infinite;\n",
              "  }\n",
              "\n",
              "  @keyframes spin {\n",
              "    0% {\n",
              "      border-color: transparent;\n",
              "      border-bottom-color: var(--fill-color);\n",
              "      border-left-color: var(--fill-color);\n",
              "    }\n",
              "    20% {\n",
              "      border-color: transparent;\n",
              "      border-left-color: var(--fill-color);\n",
              "      border-top-color: var(--fill-color);\n",
              "    }\n",
              "    30% {\n",
              "      border-color: transparent;\n",
              "      border-left-color: var(--fill-color);\n",
              "      border-top-color: var(--fill-color);\n",
              "      border-right-color: var(--fill-color);\n",
              "    }\n",
              "    40% {\n",
              "      border-color: transparent;\n",
              "      border-right-color: var(--fill-color);\n",
              "      border-top-color: var(--fill-color);\n",
              "    }\n",
              "    60% {\n",
              "      border-color: transparent;\n",
              "      border-right-color: var(--fill-color);\n",
              "    }\n",
              "    80% {\n",
              "      border-color: transparent;\n",
              "      border-right-color: var(--fill-color);\n",
              "      border-bottom-color: var(--fill-color);\n",
              "    }\n",
              "    90% {\n",
              "      border-color: transparent;\n",
              "      border-bottom-color: var(--fill-color);\n",
              "    }\n",
              "  }\n",
              "</style>\n",
              "\n",
              "  <script>\n",
              "    async function quickchart(key) {\n",
              "      const quickchartButtonEl =\n",
              "        document.querySelector('#' + key + ' button');\n",
              "      quickchartButtonEl.disabled = true;  // To prevent multiple clicks.\n",
              "      quickchartButtonEl.classList.add('colab-df-spinner');\n",
              "      try {\n",
              "        const charts = await google.colab.kernel.invokeFunction(\n",
              "            'suggestCharts', [key], {});\n",
              "      } catch (error) {\n",
              "        console.error('Error during call to suggestCharts:', error);\n",
              "      }\n",
              "      quickchartButtonEl.classList.remove('colab-df-spinner');\n",
              "      quickchartButtonEl.classList.add('colab-df-quickchart-complete');\n",
              "    }\n",
              "    (() => {\n",
              "      let quickchartButtonEl =\n",
              "        document.querySelector('#df-1b505f6a-bee0-4c93-a6e3-8ed6806e06a9 button');\n",
              "      quickchartButtonEl.style.display =\n",
              "        google.colab.kernel.accessAllowed ? 'block' : 'none';\n",
              "    })();\n",
              "  </script>\n",
              "</div>\n",
              "    </div>\n",
              "  </div>\n"
            ]
          },
          "metadata": {},
          "execution_count": 88
        }
      ]
    },
    {
      "cell_type": "markdown",
      "source": [
        "With our search narrowed, we find one set of near-perfect duplicates. The difference between the two reveals a standardization error. \"C21\" and \"Century\" are likely the same company, as a quick Google search* reveals, namely Century 21 Real Estate.\n",
        "\n",
        "    * https://www.google.com/search?q=century+real+estate+australia&sca_esv=565767936&rlz=1C1UEAD_enUS1027US1027&sxsrf=AM9HkKn5OQDvVWDMadBpATvUWU4j4vlQ_A%3A1694813666977&ei=4s0EZZKjO8S-kPIPxNyr8A0&ved=0ahUKEwiSnNL0yK2BAxVEH0QIHUTuCt4Q4dUDCBE&uact=5&oq=century+real+estate+australia&gs_lp=Egxnd3Mtd2l6LXNlcnAiHWNlbnR1cnkgcmVhbCBlc3RhdGUgYXVzdHJhbGlhMgYQABgHGB4yBhAAGAUYHjIGEAAYCBgeMggQABiKBRiGAzIIEAAYigUYhgMyCBAAGIoFGIYDMggQABiKBRiGA0jxGFAAWL0JcAB4AZABAJgBaKAB6gSqAQM1LjK4AQPIAQD4AQHCAggQABgIGAcYHsICCBAAGAUYBxge4gMEGAAgQYgGAQ&sclient=gws-wiz-serp"
      ],
      "metadata": {
        "id": "t2TkeDikwtMN"
      }
    },
    {
      "cell_type": "markdown",
      "source": [
        "It seems prudent, therefore, to fix this in the data set before dropping the soon-to-be-perfect duplicate and proceding with the analysis."
      ],
      "metadata": {
        "id": "9D_NOmHkx0Dh"
      }
    },
    {
      "cell_type": "code",
      "source": [
        "#dictate replacements to be made\n",
        "replacements = {\n",
        "    'Century' : 'Century21',\n",
        "    'C21' : 'Century21'\n",
        "}\n",
        "\n",
        "#make replacements\n",
        "df['SellerG'].replace(replacements, inplace = True)\n",
        "\n",
        "#drop (now) perfect duplicates\n",
        "df.drop_duplicates(inplace = True)\n"
      ],
      "metadata": {
        "id": "Lp-wLvq9vinb"
      },
      "execution_count": null,
      "outputs": []
    },
    {
      "cell_type": "markdown",
      "source": [
        "###About Missing Data"
      ],
      "metadata": {
        "id": "A0B_epMORoT4"
      }
    },
    {
      "cell_type": "markdown",
      "source": [
        "As we have seen, the data set contains null values, or missing data, in a number of columns. If the purpose of this analysis were to provide a data set  to a machine learning algorithm or to conduct an exhaustive numerical analysis of the data, the entries with uncorrectable data would have to be dealt with in some way. However, since this analysis is graphical in nature, we do not nead to worry about that.  This is due to the fact that the current versions of the python libraries `matplotlib` and `seaborn` are designed to ignore null values while ploting data by default."
      ],
      "metadata": {
        "id": "R2h2Y2cnRyri"
      }
    },
    {
      "cell_type": "markdown",
      "source": [
        "##Analysis"
      ],
      "metadata": {
        "id": "KJIpn7zXK3AT"
      }
    },
    {
      "cell_type": "markdown",
      "source": [
        "###Create a scatter plot that shows land size on the x-axis and price on the y-axis. Change the color of the points to reflect the type of the property."
      ],
      "metadata": {
        "id": "dcrnwAlxeZxx"
      }
    },
    {
      "cell_type": "markdown",
      "source": [
        "Before we do any plotting, here is a shortcut labeling function to speed up the plotting process."
      ],
      "metadata": {
        "id": "Gn3Td1Eu6-K0"
      }
    },
    {
      "cell_type": "code",
      "source": [
        "def labeler(title, xlabel, ylabel, boldBool = True) :\n",
        "  if boldBool:\n",
        "    plt.title(title, fontweight = 'bold')\n",
        "    plt.xlabel(xlabel, fontweight = 'bold')\n",
        "    plt.ylabel(ylabel, fontweight = 'bold')\n",
        "  else:\n",
        "    plt.title(title)\n",
        "    plt.xlabel(xlabel)\n",
        "    plt.ylabel(ylabel)"
      ],
      "metadata": {
        "id": "J3vJBOTG6DMK"
      },
      "execution_count": null,
      "outputs": []
    },
    {
      "cell_type": "markdown",
      "source": [
        "The code below creates a scatter plot of Landsize vs Price. We see that the suspected outlier in Landsize that we spotted before seems to be making the plot near-illegible."
      ],
      "metadata": {
        "id": "2fB9Qbjo5q0g"
      }
    },
    {
      "cell_type": "code",
      "source": [
        "#create a columns for scaled price and scaled land size\n",
        "million = 1000000\n",
        "thousand = 1000\n",
        "df['ScaledPrice'] = df['Price'] / million\n",
        "df['ScaledLandsize'] = df['Landsize'] / thousand\n",
        "\n",
        "#create and display scatterplot\n",
        "plt.figure(dpi = 100)\n",
        "sns.scatterplot(data = df, x = 'ScaledLandsize', y = 'ScaledPrice', hue = 'Type', palette = ['teal', 'orange', 'magenta']) #scale price and land size\n",
        "labeler('Land Size vs Price by Property Type', 'Land Size (thousand)', 'Price ($M)') #scale price and land size\n",
        "plt.show()"
      ],
      "metadata": {
        "id": "ntPnpBDILL7e",
        "colab": {
          "base_uri": "https://localhost:8080/",
          "height": 472
        },
        "outputId": "c3cc9c14-633b-4cab-b4e8-0e5e9cf9165f"
      },
      "execution_count": null,
      "outputs": [
        {
          "output_type": "display_data",
          "data": {
            "text/plain": [
              "<Figure size 640x480 with 1 Axes>"
            ],
            "image/png": "[encoded data removed]"
          },
          "metadata": {}
        }
      ]
    },
    {
      "cell_type": "markdown",
      "source": [
        "For a plot that is both more legible as well as more representative of the data set as a whole, we can remove outliers from the data set.  To do this, we will use the z-score with z = 3 as our boundary of acceptibility. Below, we have code that creates a new column for land size z-scores and then creates a subset of the data with outliers removed."
      ],
      "metadata": {
        "id": "ZIx9rsOv9uBz"
      }
    },
    {
      "cell_type": "code",
      "source": [
        "#calculate mean and stdev\n",
        "land_mu = df['Landsize'].mean()\n",
        "land_sigma = df['Landsize'].std()\n",
        "\n",
        "#create z-score column\n",
        "df['LandZScore'] = (df['Landsize'] - land_mu) / land_sigma\n",
        "\n",
        "#define boundary of acceptability (z=3)\n",
        "bound = 3\n",
        "\n",
        "#create filter for land size out boundary of acceptability\n",
        "isOutlier = df['LandZScore'].apply('abs') > bound\n",
        "\n",
        "#create subset with outliers removed\n",
        "noLandOut_df = df.drop(index = df[isOutlier].index)"
      ],
      "metadata": {
        "id": "NBkWlTSR-W5m"
      },
      "execution_count": null,
      "outputs": []
    },
    {
      "cell_type": "markdown",
      "source": [
        "Another shot at our scatter plot (this time with trendlines) yields the result below."
      ],
      "metadata": {
        "id": "D_hUrvfNBYKk"
      }
    },
    {
      "cell_type": "code",
      "source": [
        "#create and display scatterplot\n",
        "plt.figure(dpi = 200)\n",
        "sns.lmplot(data = noLandOut_df, x = 'Landsize', y = 'ScaledPrice', hue = 'Type') #scale price\n",
        "labeler('Land Size vs Price by Property Type', 'Land Size', 'Price ($M)') #scale price\n",
        "plt.show()"
      ],
      "metadata": {
        "colab": {
          "base_uri": "https://localhost:8080/",
          "height": 546
        },
        "id": "4xx9ok9u9lzN",
        "outputId": "c3ae215d-c113-412e-c448-2d803ec566c4"
      },
      "execution_count": null,
      "outputs": [
        {
          "output_type": "display_data",
          "data": {
            "text/plain": [
              "<Figure size 1280x960 with 0 Axes>"
            ]
          },
          "metadata": {}
        },
        {
          "output_type": "display_data",
          "data": {
            "text/plain": [
              "<Figure size 558.75x500 with 1 Axes>"
            ],
            "image/png": "[encoded data removed]"
          },
          "metadata": {}
        }
      ]
    },
    {
      "cell_type": "markdown",
      "source": [
        "####Which type of property experiences a steep price increase as the land size goes up?"
      ],
      "metadata": {
        "id": "ecV7p4mZhy6I"
      }
    },
    {
      "cell_type": "markdown",
      "source": [
        "The last plot generated above finally gives us a clerar answer to this question. **House (h) prices exhibit a steep upward trend with increasing land size**."
      ],
      "metadata": {
        "id": "f0oOCkhsjP3k"
      }
    },
    {
      "cell_type": "markdown",
      "source": [
        "###Create a line chart that shows the year built along the x-axis and the average price per year on the y-axis."
      ],
      "metadata": {
        "id": "WHdK7847LMdM"
      }
    },
    {
      "cell_type": "markdown",
      "source": [
        "Before diving into this visualization, it is worth noting that one variable involved in this line chart (namely YearBuilt) is missing some data. Since this data cannot be imputed, we would ordinarily drop the offending entries from the data set for this visualization.  However, as discussed at the end of the Overview, the code we use to visualize the data ignores null values by default. We can, therefore, safely pass in a data set, holes or no, without issue."
      ],
      "metadata": {
        "id": "5lrDnXmDVfwK"
      }
    },
    {
      "cell_type": "markdown",
      "source": [
        "Assuming \"average price per year\" means the average price *for each* year, the following code creates a line plot showing how the average price of a home changes with the year it was built.  Again, we are hindered by the presence of what we may assume to be an outlier."
      ],
      "metadata": {
        "id": "1emkfdxKFNyK"
      }
    },
    {
      "cell_type": "code",
      "source": [
        "#create and display line plot of build year vs average price for each year\n",
        "sns.lineplot(data = df, x = 'YearBuilt', y = 'ScaledPrice', estimator = 'mean') #use scaled price created in previous section\n",
        "labeler('Average Price by Year Built', 'Year Built', 'Average Price ($M)') #scale price\n",
        "plt.show()\n"
      ],
      "metadata": {
        "id": "Ca6MuMNXLQxn",
        "colab": {
          "base_uri": "https://localhost:8080/",
          "height": 472
        },
        "outputId": "3468a32b-abee-4130-938b-804e9ae9772a"
      },
      "execution_count": null,
      "outputs": [
        {
          "output_type": "display_data",
          "data": {
            "text/plain": [
              "<Figure size 640x480 with 1 Axes>"
            ],
            "image/png": "[encoded data removed]"
          },
          "metadata": {}
        }
      ]
    },
    {
      "cell_type": "markdown",
      "source": [
        "Upon reflection, we can easily conclude the property in 1196 to be erroneous since the Australian continent was not colonized until the late 1700s.  The code below gives a peak at this record."
      ],
      "metadata": {
        "id": "1YglaCffdTsm"
      }
    },
    {
      "cell_type": "code",
      "source": [
        "df[df['YearBuilt'] == df['YearBuilt'].min()]"
      ],
      "metadata": {
        "colab": {
          "base_uri": "https://localhost:8080/",
          "height": 165
        },
        "id": "A3l2WjesdS8K",
        "outputId": "60430156-3e5d-4247-bd31-2fd7912118f2"
      },
      "execution_count": null,
      "outputs": [
        {
          "output_type": "execute_result",
          "data": {
            "text/plain": [
              "              Suburb         Address  Rooms Type    Price Method  SellerG  \\\n",
              "9968  Mount Waverley  5 Armstrong St      3    h  1200000     VB  McGrath   \n",
              "\n",
              "            Date  Distance  Postcode  ...  Car  Landsize  BuildingArea  \\\n",
              "9968  24/06/2017      14.2      3149  ...  4.0       807         117.0   \n",
              "\n",
              "      YearBuilt  CouncilArea            Regionname Propertycount ScaledPrice  \\\n",
              "9968     1196.0       Monash  Eastern Metropolitan         13366         1.2   \n",
              "\n",
              "      ScaledLandsize  LandZScore  \n",
              "9968           0.807    0.062288  \n",
              "\n",
              "[1 rows x 22 columns]"
            ],
            "text/html": [
              "\n",
              "  <div id=\"df-302a3b7c-3a6e-4dc6-91fb-e90c66833342\" class=\"colab-df-container\">\n",
              "    <div>\n",
              "<style scoped>\n",
              "    .dataframe tbody tr th:only-of-type {\n",
              "        vertical-align: middle;\n",
              "    }\n",
              "\n",
              "    .dataframe tbody tr th {\n",
              "        vertical-align: top;\n",
              "    }\n",
              "\n",
              "    .dataframe thead th {\n",
              "        text-align: right;\n",
              "    }\n",
              "</style>\n",
              "<table border=\"1\" class=\"dataframe\">\n",
              "  <thead>\n",
              "    <tr style=\"text-align: right;\">\n",
              "      <th></th>\n",
              "      <th>Suburb</th>\n",
              "      <th>Address</th>\n",
              "      <th>Rooms</th>\n",
              "      <th>Type</th>\n",
              "      <th>Price</th>\n",
              "      <th>Method</th>\n",
              "      <th>SellerG</th>\n",
              "      <th>Date</th>\n",
              "      <th>Distance</th>\n",
              "      <th>Postcode</th>\n",
              "      <th>...</th>\n",
              "      <th>Car</th>\n",
              "      <th>Landsize</th>\n",
              "      <th>BuildingArea</th>\n",
              "      <th>YearBuilt</th>\n",
              "      <th>CouncilArea</th>\n",
              "      <th>Regionname</th>\n",
              "      <th>Propertycount</th>\n",
              "      <th>ScaledPrice</th>\n",
              "      <th>ScaledLandsize</th>\n",
              "      <th>LandZScore</th>\n",
              "    </tr>\n",
              "  </thead>\n",
              "  <tbody>\n",
              "    <tr>\n",
              "      <th>9968</th>\n",
              "      <td>Mount Waverley</td>\n",
              "      <td>5 Armstrong St</td>\n",
              "      <td>3</td>\n",
              "      <td>h</td>\n",
              "      <td>1200000</td>\n",
              "      <td>VB</td>\n",
              "      <td>McGrath</td>\n",
              "      <td>24/06/2017</td>\n",
              "      <td>14.2</td>\n",
              "      <td>3149</td>\n",
              "      <td>...</td>\n",
              "      <td>4.0</td>\n",
              "      <td>807</td>\n",
              "      <td>117.0</td>\n",
              "      <td>1196.0</td>\n",
              "      <td>Monash</td>\n",
              "      <td>Eastern Metropolitan</td>\n",
              "      <td>13366</td>\n",
              "      <td>1.2</td>\n",
              "      <td>0.807</td>\n",
              "      <td>0.062288</td>\n",
              "    </tr>\n",
              "  </tbody>\n",
              "</table>\n",
              "<p>1 rows × 22 columns</p>\n",
              "</div>\n",
              "    <div class=\"colab-df-buttons\">\n",
              "\n",
              "  <div class=\"colab-df-container\">\n",
              "    <button class=\"colab-df-convert\" onclick=\"convertToInteractive('df-302a3b7c-3a6e-4dc6-91fb-e90c66833342')\"\n",
              "            title=\"Convert this dataframe to an interactive table.\"\n",
              "            style=\"display:none;\">\n",
              "\n",
              "  <svg xmlns=\"http://www.w3.org/2000/svg\" height=\"24px\" viewBox=\"0 -960 960 960\">\n",
              "    <path d=\"M120-120v-720h720v720H120Zm60-500h600v-160H180v160Zm220 220h160v-160H400v160Zm0 220h160v-160H400v160ZM180-400h160v-160H180v160Zm440 0h160v-160H620v160ZM180-180h160v-160H180v160Zm440 0h160v-160H620v160Z\"/>\n",
              "  </svg>\n",
              "    </button>\n",
              "\n",
              "  <style>\n",
              "    .colab-df-container {\n",
              "      display:flex;\n",
              "      gap: 12px;\n",
              "    }\n",
              "\n",
              "    .colab-df-convert {\n",
              "      background-color: #E8F0FE;\n",
              "      border: none;\n",
              "      border-radius: 50%;\n",
              "      cursor: pointer;\n",
              "      display: none;\n",
              "      fill: #1967D2;\n",
              "      height: 32px;\n",
              "      padding: 0 0 0 0;\n",
              "      width: 32px;\n",
              "    }\n",
              "\n",
              "    .colab-df-convert:hover {\n",
              "      background-color: #E2EBFA;\n",
              "      box-shadow: 0px 1px 2px rgba(60, 64, 67, 0.3), 0px 1px 3px 1px rgba(60, 64, 67, 0.15);\n",
              "      fill: #174EA6;\n",
              "    }\n",
              "\n",
              "    .colab-df-buttons div {\n",
              "      margin-bottom: 4px;\n",
              "    }\n",
              "\n",
              "    [theme=dark] .colab-df-convert {\n",
              "      background-color: #3B4455;\n",
              "      fill: #D2E3FC;\n",
              "    }\n",
              "\n",
              "    [theme=dark] .colab-df-convert:hover {\n",
              "      background-color: #434B5C;\n",
              "      box-shadow: 0px 1px 3px 1px rgba(0, 0, 0, 0.15);\n",
              "      filter: drop-shadow(0px 1px 2px rgba(0, 0, 0, 0.3));\n",
              "      fill: #FFFFFF;\n",
              "    }\n",
              "  </style>\n",
              "\n",
              "    <script>\n",
              "      const buttonEl =\n",
              "        document.querySelector('#df-302a3b7c-3a6e-4dc6-91fb-e90c66833342 button.colab-df-convert');\n",
              "      buttonEl.style.display =\n",
              "        google.colab.kernel.accessAllowed ? 'block' : 'none';\n",
              "\n",
              "      async function convertToInteractive(key) {\n",
              "        const element = document.querySelector('#df-302a3b7c-3a6e-4dc6-91fb-e90c66833342');\n",
              "        const dataTable =\n",
              "          await google.colab.kernel.invokeFunction('convertToInteractive',\n",
              "                                                    [key], {});\n",
              "        if (!dataTable) return;\n",
              "\n",
              "        const docLinkHtml = 'Like what you see? Visit the ' +\n",
              "          '<a target=\"_blank\" href=https://colab.research.google.com/notebooks/data_table.ipynb>data table notebook</a>'\n",
              "          + ' to learn more about interactive tables.';\n",
              "        element.innerHTML = '';\n",
              "        dataTable['output_type'] = 'display_data';\n",
              "        await google.colab.output.renderOutput(dataTable, element);\n",
              "        const docLink = document.createElement('div');\n",
              "        docLink.innerHTML = docLinkHtml;\n",
              "        element.appendChild(docLink);\n",
              "      }\n",
              "    </script>\n",
              "  </div>\n",
              "\n",
              "    </div>\n",
              "  </div>\n"
            ]
          },
          "metadata": {},
          "execution_count": 95
        }
      ]
    },
    {
      "cell_type": "markdown",
      "source": [
        "Since the business logic error cannot be imupted from existing data, we may as well treat it as an outlier in that will remove it.  Let us remove any outliers (and the erroneous record) from this plot using the same methods as the previous section."
      ],
      "metadata": {
        "id": "zg9D7RIKHari"
      }
    },
    {
      "cell_type": "code",
      "source": [
        "#calculate mean and stdev\n",
        "build_mu = df['YearBuilt'].mean()\n",
        "build_sigma = df['YearBuilt'].std()\n",
        "\n",
        "#create z-score column\n",
        "df['BuildZScore'] = (df['YearBuilt'] - build_mu) / build_sigma\n",
        "\n",
        "#define boundary of acceptability (z=3)\n",
        "bound = 3\n",
        "\n",
        "#create filter for build year out boundary of acceptability\n",
        "isOutlier = df['BuildZScore'].apply('abs') > bound\n",
        "\n",
        "#create subset with outliers removed\n",
        "noBuildOut_df = df.drop(index = df[isOutlier].index)"
      ],
      "metadata": {
        "id": "PS3BQPptHbBk"
      },
      "execution_count": null,
      "outputs": []
    },
    {
      "cell_type": "markdown",
      "source": [
        "Retrying our line plot, again, we get:"
      ],
      "metadata": {
        "id": "XXJiX5SwI_zf"
      }
    },
    {
      "cell_type": "code",
      "source": [
        "#create and display line plot of build year vs average price for each year\n",
        "sns.lineplot(data = noBuildOut_df, x = 'YearBuilt', y = 'ScaledPrice', estimator = 'mean')\n",
        "labeler('Average Price by Year Built', 'Year Built', 'Average Price ($M)')\n",
        "plt.show()"
      ],
      "metadata": {
        "colab": {
          "base_uri": "https://localhost:8080/",
          "height": 472
        },
        "id": "PYTiZV9bJE4A",
        "outputId": "20ca8439-f2d3-4b04-9344-73197cb86cf8"
      },
      "execution_count": null,
      "outputs": [
        {
          "output_type": "display_data",
          "data": {
            "text/plain": [
              "<Figure size 640x480 with 1 Axes>"
            ],
            "image/png": "[encoded data removed]"
          },
          "metadata": {}
        }
      ]
    },
    {
      "cell_type": "markdown",
      "source": [
        "If the above graphic does not suit the client's tastes, another can be created using `matplotlib`, though an extra line of code is necessary:"
      ],
      "metadata": {
        "id": "dW3vnpJtNAqM"
      }
    },
    {
      "cell_type": "code",
      "source": [
        "#create subset of data grouped by build year and aggregated on the average price (using the scaled price created in the previous section)\n",
        "YBgroup_Pagg_df = noBuildOut_df[['YearBuilt', 'ScaledPrice']].groupby('YearBuilt', as_index = False).mean().sort_values(by = 'YearBuilt')\n",
        "\n",
        "plt.plot(YBgroup_Pagg_df['YearBuilt'], YBgroup_Pagg_df['ScaledPrice'])\n",
        "labeler('Average Price by Year Built', 'Year Built', 'Average Price ($M)')\n",
        "plt.show()"
      ],
      "metadata": {
        "colab": {
          "base_uri": "https://localhost:8080/",
          "height": 472
        },
        "id": "rEqcoMXlLlxP",
        "outputId": "fa5bd37b-969d-4155-cac9-f563303ff13e"
      },
      "execution_count": null,
      "outputs": [
        {
          "output_type": "display_data",
          "data": {
            "text/plain": [
              "<Figure size 640x480 with 1 Axes>"
            ],
            "image/png": "[encoded data removed]"
          },
          "metadata": {}
        }
      ]
    },
    {
      "cell_type": "markdown",
      "source": [
        "####According to the line chart produced above, does the average price of properties seem to increase or decrease as the property becomes newer?"
      ],
      "metadata": {
        "id": "do8u_Ws2h4HR"
      }
    },
    {
      "cell_type": "markdown",
      "source": [
        "After removing the outliers, we can see a clear trend of decreasing variability in average price as well as a **slight decrease in average price for newer properties**, though the newest properties seem to be starting to buck that trend."
      ],
      "metadata": {
        "id": "FcqucFIBjNu1"
      }
    },
    {
      "cell_type": "markdown",
      "source": [
        "###Create a bar chart that shows the region on the x-axis and the average price of the property on the y-axis."
      ],
      "metadata": {
        "id": "5_sQ_0ZCLRJw"
      }
    },
    {
      "cell_type": "markdown",
      "source": [
        "For this bar chart, the long names of the regions are likely to conflict with the formatting of the plot. To fix this, we will create a new column of the data with shortened region names with the following code."
      ],
      "metadata": {
        "id": "tBfH3gKrPGEy"
      }
    },
    {
      "cell_type": "code",
      "source": [
        "#creates new column with region name shortened by reducing 'Northern' to 'N' etc.\n",
        "df['RegionShortName'] = df['Regionname'].str.replace('Southern', 'S').str.replace('Northern', 'N').str.replace('Eastern', 'E').str.replace('Western', 'W').str.replace('South-', 'S-')"
      ],
      "metadata": {
        "id": "E2b5dY_4QoQh"
      },
      "execution_count": null,
      "outputs": []
    },
    {
      "cell_type": "markdown",
      "source": [
        "The code below creates a bar chart showing the average property price in each region."
      ],
      "metadata": {
        "id": "3NgqdASqUBUC"
      }
    },
    {
      "cell_type": "code",
      "source": [
        "#create, format, and display bar chart for the average price for each region\n",
        "plt.figure(figsize=(12, 4))\n",
        "sns.barplot(data = df, x = 'RegionShortName', y = 'ScaledPrice', estimator = 'mean') #use scaled price\n",
        "labeler('Average Property Price by Region', 'Region', 'Price ($M)') #scale price in millions\n",
        "plt.show()"
      ],
      "metadata": {
        "id": "AEHawxDgLU7y",
        "colab": {
          "base_uri": "https://localhost:8080/",
          "height": 410
        },
        "outputId": "4d97735c-a51d-4bd8-82b0-8e5409ae3a24"
      },
      "execution_count": null,
      "outputs": [
        {
          "output_type": "display_data",
          "data": {
            "text/plain": [
              "<Figure size 1200x400 with 1 Axes>"
            ],
            "image/png": "[encoded data removed]"
          },
          "metadata": {}
        }
      ]
    },
    {
      "cell_type": "markdown",
      "source": [
        "Again, if this plot does not match the client's taste, another version can be created using the code below, though it also requires an extra line of code to aggregate."
      ],
      "metadata": {
        "id": "xSU_VoEVVf38"
      }
    },
    {
      "cell_type": "code",
      "source": [
        "#create subset of data grouped by region and aggregated on the average price (using the scaled price created in the first section)\n",
        "Rgroup_Pagg_df = df[['RegionShortName', 'ScaledPrice']].groupby('RegionShortName', as_index = False).mean()\n",
        "\n",
        "#create, format, and display bar chart for the average price for each region\n",
        "plt.figure(figsize=(13, 4))\n",
        "plt.bar(Rgroup_Pagg_df['RegionShortName'], Rgroup_Pagg_df['ScaledPrice'])\n",
        "labeler('Average Property Price by Region', 'Region', 'Price ($M)') #scale price in millions\n",
        "plt.show()"
      ],
      "metadata": {
        "colab": {
          "base_uri": "https://localhost:8080/",
          "height": 410
        },
        "id": "Gh8Viq5wVt-l",
        "outputId": "dd937e48-80f2-46f9-89e4-e5f2b86074aa"
      },
      "execution_count": null,
      "outputs": [
        {
          "output_type": "display_data",
          "data": {
            "text/plain": [
              "<Figure size 1300x400 with 1 Axes>"
            ],
            "image/png": "[encoded data removed]"
          },
          "metadata": {}
        }
      ]
    },
    {
      "cell_type": "markdown",
      "source": [
        "####According to the bar chart above, properties appear to have the highest average price in which region?"
      ],
      "metadata": {
        "id": "A12q6hDeh5ra"
      }
    },
    {
      "cell_type": "markdown",
      "source": [
        "As we can see in the bar charts above, the **Southern Metropolitan region have the highest property prices on average**."
      ],
      "metadata": {
        "id": "YDe6EEqXjMrI"
      }
    },
    {
      "cell_type": "markdown",
      "source": [
        "###Create a histogram of property prices"
      ],
      "metadata": {
        "id": "VpFsRFephS5E"
      }
    },
    {
      "cell_type": "markdown",
      "source": [
        "This code shows us a histogram of the property prices in Melbourne with a bin width of $50,000 Australian."
      ],
      "metadata": {
        "id": "SjN_jN0wGLRY"
      }
    },
    {
      "cell_type": "code",
      "source": [
        "#create a list of x-axis demarcations for use in plt.xticks()\n",
        "tickMax = 9 #change this number to change the range of tick marks\n",
        "demarcations = []\n",
        "for x in range(tickMax+ 1):\n",
        "  demarcations.append(x)\n",
        "\n",
        "#create, format, and display histogram of property prices\n",
        "plt.figure(figsize = (12,3))\n",
        "sns.histplot(data = df, x = 'ScaledPrice', binwidth = .05) #scaled down by 1 million\n",
        "labeler('Histogram of Property Prices in Melbourne', 'Prices ($M)', 'Count')\n",
        "plt.xticks(ticks = demarcations)\n",
        "plt.show()"
      ],
      "metadata": {
        "colab": {
          "base_uri": "https://localhost:8080/",
          "height": 333
        },
        "id": "VJ6QkkFwhS5F",
        "outputId": "eb2851ad-d1e3-4f81-97f2-e67800b715bd"
      },
      "execution_count": null,
      "outputs": [
        {
          "output_type": "display_data",
          "data": {
            "text/plain": [
              "<Figure size 1200x300 with 1 Axes>"
            ],
            "image/png": "[encoded data removed]"
          },
          "metadata": {}
        }
      ]
    },
    {
      "cell_type": "markdown",
      "source": [
        "####According to the histogram above, are the prices for properties right skewed, left skewed, or not skewed at all?"
      ],
      "metadata": {
        "id": "4Bs8LApPh71N"
      }
    },
    {
      "cell_type": "markdown",
      "source": [
        "In the above histogram, we have a clear tail out to the right. That is, **the property prices are right-skewed**."
      ],
      "metadata": {
        "id": "4z2dpPvEjLs5"
      }
    },
    {
      "cell_type": "markdown",
      "source": [
        "###Create a box plot that shows the years that each property was built on the x-axis and the region on the y-axis. These box plots should be oriented horizontally."
      ],
      "metadata": {
        "id": "ognq6fgkhS5F"
      }
    },
    {
      "cell_type": "markdown",
      "source": [
        "As we have discussed before, the YearBuilt column of the data set contains a number of null values, but , as we determined, we have no need to drop them as the plotting functions we are using are conveniently built to ignore them."
      ],
      "metadata": {
        "id": "bsMk5rCJW06M"
      }
    },
    {
      "cell_type": "markdown",
      "source": [
        "The box plot generated by the code below, uses the subset of data we created in a previous section that does not contain the year built outliers."
      ],
      "metadata": {
        "id": "x6tVnZExPH0B"
      }
    },
    {
      "cell_type": "code",
      "source": [
        "#\n",
        "sns.boxplot(data = noBuildOut_df, x = 'YearBuilt', y = 'Regionname')\n",
        "labeler('Box and Whisker Plot of Build Years by Region','Year Built','Region')\n",
        "plt.show()"
      ],
      "metadata": {
        "colab": {
          "base_uri": "https://localhost:8080/",
          "height": 472
        },
        "id": "SLnhSYUkhS5G",
        "outputId": "3085897d-b6b3-4367-e32b-8842bb54df95"
      },
      "execution_count": null,
      "outputs": [
        {
          "output_type": "display_data",
          "data": {
            "text/plain": [
              "<Figure size 640x480 with 1 Axes>"
            ],
            "image/png": "[encoded data removed]"
          },
          "metadata": {}
        }
      ]
    },
    {
      "cell_type": "markdown",
      "source": [
        "For curiosity's sake, below, we have code that generates the same box and whisker plot for the data before outliers (and the erroneous record) were removed. Just as with other plots, the oulier renders the plot nearly indecipherable."
      ],
      "metadata": {
        "id": "gz960DqOQz78"
      }
    },
    {
      "cell_type": "code",
      "source": [
        "#create, format, and display box and whisker for build years by region\n",
        "sns.boxplot(data = df, x = 'YearBuilt', y = 'Regionname')\n",
        "labeler('Box and Whisker Plot of Build Years by Region\\nwith Erroneous Record Included','Year Built','Region')\n",
        "plt.show()"
      ],
      "metadata": {
        "colab": {
          "base_uri": "https://localhost:8080/",
          "height": 493
        },
        "id": "egxNA5QqPYqH",
        "outputId": "45ba4316-4de6-4c2a-b962-7be8e522af2a"
      },
      "execution_count": null,
      "outputs": [
        {
          "output_type": "display_data",
          "data": {
            "text/plain": [
              "<Figure size 640x480 with 1 Axes>"
            ],
            "image/png": "[encoded data removed]"
          },
          "metadata": {}
        }
      ]
    },
    {
      "cell_type": "markdown",
      "source": [
        "####According to the box plot above, which region has properties built in the widest range of time?"
      ],
      "metadata": {
        "id": "dLBHObagh9tA"
      }
    },
    {
      "cell_type": "markdown",
      "source": [
        "Using the first of the two plots generated above, we can see that, by a hair, **the Northern Metropolitan region has properties built in the widest range of time**.  The code below confirms this."
      ],
      "metadata": {
        "id": "5DGf8RDujHf7"
      }
    },
    {
      "cell_type": "code",
      "source": [
        "#create subset containing only region name and build year\n",
        "check_df = noBuildOut_df[['YearBuilt', 'Regionname']]\n",
        "\n",
        "#calculate build year extrema for both Northern and Southern Metropolitan regions\n",
        "North_min = check_df[check_df['Regionname'] == 'Northern Metropolitan']['YearBuilt'].min()\n",
        "North_max = check_df[check_df['Regionname'] == 'Northern Metropolitan']['YearBuilt'].max()\n",
        "South_min = check_df[check_df['Regionname'] == 'Southern Metropolitan']['YearBuilt'].min()\n",
        "South_max = check_df[check_df['Regionname'] == 'Southern Metropolitan']['YearBuilt'].max()\n",
        "\n",
        "#calculate and display ranges\n",
        "print('Northern Metropolitan Range:', North_max - North_min)\n",
        "print('Southern Metropolitan Range:', South_max - South_min)"
      ],
      "metadata": {
        "colab": {
          "base_uri": "https://localhost:8080/"
        },
        "id": "AHIFvLL1ZHUw",
        "outputId": "87f37add-e4e6-4757-826a-f990fb2f21eb"
      },
      "execution_count": null,
      "outputs": [
        {
          "output_type": "stream",
          "name": "stdout",
          "text": [
            "Northern Metropolitan Range: 163.0\n",
            "Southern Metropolitan Range: 162.0\n"
          ]
        }
      ]
    },
    {
      "cell_type": "markdown",
      "source": [
        "Note that the second of the two plots generated above, gives a completely different answer of the Eastern Metropolitan area due entirely to the one erroneous property in 1196."
      ],
      "metadata": {
        "id": "HEIm4Rvrbj4k"
      }
    },
    {
      "cell_type": "markdown",
      "source": [
        "####According to the box plot above, which region is the only region that has very few properties listed that were built after the year 2000?"
      ],
      "metadata": {
        "id": "PxWGc3YCh-Eh"
      }
    },
    {
      "cell_type": "markdown",
      "source": [
        "Again, using the first of the two plots, we can clearly see that **the Western Victoria region has very few properties listed built after 2000**."
      ],
      "metadata": {
        "id": "lDEEKtWtjIIT"
      }
    },
    {
      "cell_type": "markdown",
      "source": [
        "##Results\n",
        "\n"
      ],
      "metadata": {
        "id": "9q2kwKVwLVQ-"
      }
    },
    {
      "cell_type": "markdown",
      "source": [
        "To conclude, all requested visualizations have been generated, with some improved or alternate versions also provided. These can be found in the body of the analysis. In our analysis, we found that the *Western Victoria* region has very few properties listed built after 2000, the *Northern Metropolitan* region has properties built in the widest range of time, property prices are *right-skewed*,  the *Southern Metropolitan* region have the highest property prices on average, the average price of properties *slightly decreases* for newer properties, and that *house* prices exhibit a steep upward trend with increasing land size."
      ],
      "metadata": {
        "id": "0Ba743u6V7gp"
      }
    }
  ]
}
